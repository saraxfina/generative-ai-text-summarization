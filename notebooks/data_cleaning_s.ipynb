{
 "cells": [
  {
   "cell_type": "code",
   "execution_count": 1,
   "id": "533f2834-6566-4f43-836c-4b6a79cf6d20",
   "metadata": {
    "tags": []
   },
   "outputs": [],
   "source": [
    "# Imports\n",
    "import numpy as np\n",
    "import pandas as pd\n",
    "import re\n",
    "from sklearn.model_selection import train_test_split"
   ]
  },
  {
   "cell_type": "code",
   "execution_count": 2,
   "id": "e764d0b6",
   "metadata": {},
   "outputs": [],
   "source": [
    "# Load data\n",
    "data = np.load('../data/dataset.npz', allow_pickle=True)\n",
    "\n",
    "X_train = data['X_train'] \n",
    "y_train = data['y_train'] \n",
    "X_test = data['X_test']\n",
    "y_test = data['y_test']\n",
    "X_val = data['X_val']\n",
    "y_val = data['y_val']\n",
    "\n",
    "# Concatenate numpy arrays \n",
    "X = np.concatenate([X_train, X_test, X_val]) \n",
    "y = np.concatenate([y_train, y_test, y_val]) \n",
    "\n",
    "# Create dataframe \n",
    "df = pd.DataFrame(\n",
    "    {'document': X,\n",
    "     'summary': y\n",
    "    })\n",
    "\n",
    "# Make sure there are no missing values\n",
    "df.dropna(inplace=True)"
   ]
  },
  {
   "cell_type": "code",
   "execution_count": 3,
   "id": "f3c7c9ff",
   "metadata": {},
   "outputs": [],
   "source": [
    "# Convert all text to lower case\n",
    "df['document'] = df['document'].str.lower()\n",
    "df['summary'] = df['summary'].str.lower()"
   ]
  },
  {
   "cell_type": "code",
   "execution_count": 4,
   "id": "2841bc7b",
   "metadata": {},
   "outputs": [],
   "source": [
    "# Remove special characters\n",
    "document = df['document'].tolist()\n",
    "summary = df['summary'].tolist()\n",
    "\n",
    "document = [re.sub(r'\\r\\n|\\r|\\n', ' ', _) for _ in document] # replace new line tags w/ space\n",
    "document = [re.sub(r\"[-]\", ' ', _) for _ in document] # replace dashes w/ space\n",
    "document = [re.sub('[^a-zA-Z0-9 ]+', '', _) for _ in document] # remove any other special characters\n",
    "document = [re.sub(' +', ' ', _) for _ in document] # replace multiple spaces w/ single\n",
    "\n",
    "summary = [re.sub(r'\\r\\n|\\r|\\n', ' ', _) for _ in summary]\n",
    "summary = [re.sub(r\"[-]\", ' ', _) for _ in summary]\n",
    "summary = [re.sub('[^a-zA-Z0-9 ]+', '', _) for _ in summary]\n",
    "summary = [re.sub(' +', ' ', _) for _ in summary]\n",
    "\n",
    "# Update changes to df\n",
    "df['document'] = document\n",
    "df['summary'] = summary"
   ]
  },
  {
   "cell_type": "code",
   "execution_count": 6,
   "id": "2651edfb",
   "metadata": {},
   "outputs": [],
   "source": [
    "# Split data into train, test, and val sets\n",
    "X_train, X_val, y_train, y_val = train_test_split(df[\"document\"], df[\"summary\"], train_size=0.8, random_state=42)\n",
    "\n",
    "# Format as numpy arrays\n",
    "X_train = np.asarray(X_train)\n",
    "y_train = np.asarray(y_train)\n",
    "X_test = np.asarray(X_test)\n",
    "y_test = np.asarray(y_test)\n",
    "X_val = np.asarray(X_val)\n",
    "y_val = np.asarray(y_val)"
   ]
  },
  {
   "cell_type": "code",
   "execution_count": 8,
   "id": "b18f1872-0784-446c-96c5-67ca47d865ae",
   "metadata": {
    "tags": []
   },
   "outputs": [],
   "source": [
    "# Save the cleaned data\n",
    "np.savez('../data/dataset_cleaned.npz' , X_train=X_train, y_train=y_train, X_test=X_test, y_test=y_test, X_val=X_val, y_val=y_val)"
   ]
  },
  {
   "cell_type": "code",
   "execution_count": null,
   "id": "c5c10f44",
   "metadata": {},
   "outputs": [],
   "source": []
  }
 ],
 "metadata": {
  "kernelspec": {
   "display_name": "Python 3 (ipykernel)",
   "language": "python",
   "name": "python3"
  },
  "language_info": {
   "codemirror_mode": {
    "name": "ipython",
    "version": 3
   },
   "file_extension": ".py",
   "mimetype": "text/x-python",
   "name": "python",
   "nbconvert_exporter": "python",
   "pygments_lexer": "ipython3",
   "version": "3.9.7"
  }
 },
 "nbformat": 4,
 "nbformat_minor": 5
}
