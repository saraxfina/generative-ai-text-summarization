{
 "cells": [
  {
   "cell_type": "code",
   "execution_count": 88,
   "id": "533f2834-6566-4f43-836c-4b6a79cf6d20",
   "metadata": {
    "tags": []
   },
   "outputs": [],
   "source": [
    "import numpy as np\n",
    "import re"
   ]
  },
  {
   "cell_type": "code",
   "execution_count": 89,
   "id": "c852f217-f866-49d9-b3cc-509e048b2467",
   "metadata": {
    "tags": []
   },
   "outputs": [],
   "source": [
    "data = np.load('../data/dataset.npz', allow_pickle=True)\n",
    "\n",
    "X_train = data['X_train'].tolist()\n",
    "y_train = data['y_train'].tolist()\n",
    "X_test = data['X_test'].tolist()\n",
    "y_test = data['y_test'].tolist()\n",
    "X_val = data['X_val'].tolist()\n",
    "y_val = data['y_val'].tolist()\n"
   ]
  },
  {
   "cell_type": "code",
   "execution_count": 90,
   "id": "0c487320-a4ec-4d1e-bccf-b3cd8435f969",
   "metadata": {
    "tags": []
   },
   "outputs": [],
   "source": [
    "X_train = [re.sub(r'\\r\\n|\\r|\\n', ' ', _) for _ in X_train]\n",
    "X_train = [re.sub('[^a-zA-Z0-9 ]+', '', _) for _ in X_train]\n",
    "\n",
    "y_train = [re.sub(r'\\r\\n|\\r|\\n', ' ', _) for _ in y_train]\n",
    "y_train = [re.sub('[^a-zA-Z0-9 ]+', '', _) for _ in y_train]\n",
    "\n",
    "X_test = [re.sub(r'\\r\\n|\\r|\\n', ' ', _) for _ in X_test]\n",
    "X_test = [re.sub('[^a-zA-Z0-9 ]+', '', _) for _ in X_test]\n",
    "\n",
    "y_test = [re.sub(r'\\r\\n|\\r|\\n', ' ', _) for _ in y_test]\n",
    "y_test = [re.sub('[^a-zA-Z0-9 ]+', '', _) for _ in X_test]\n",
    "\n",
    "X_val = [re.sub(r'\\r\\n|\\r|\\n', ' ', _) for _ in X_val]\n",
    "X_val = [re.sub('[^a-zA-Z0-9 ]+', '', _) for _ in X_val]\n",
    "\n",
    "y_val = [re.sub(r'\\r\\n|\\r|\\n', ' ', _) for _ in y_val]\n",
    "y_val = [re.sub('[^a-zA-Z0-9 ]+', '', _) for _ in y_val]\n",
    "\n",
    "X_train = np.asarray(X_train)\n",
    "y_train = np.asarray(y_train)\n",
    "X_test = np.asarray(X_test)\n",
    "y_test = np.asarray(y_test)\n",
    "X_val = np.asarray(X_val)\n",
    "y_val = np.asarray(y_val)\n",
    "\n"
   ]
  },
  {
   "cell_type": "code",
   "execution_count": 91,
   "id": "b18f1872-0784-446c-96c5-67ca47d865ae",
   "metadata": {
    "tags": []
   },
   "outputs": [],
   "source": [
    "np.savez('../data/dataset_cleaned.npz' , X_train=X_train, y_train=y_train, X_test=X_test, y_test=y_test, X_val=X_val, y_val=y_val)"
   ]
  }
 ],
 "metadata": {
  "kernelspec": {
   "display_name": "capstone",
   "language": "python",
   "name": "capstone"
  },
  "language_info": {
   "codemirror_mode": {
    "name": "ipython",
    "version": 3
   },
   "file_extension": ".py",
   "mimetype": "text/x-python",
   "name": "python",
   "nbconvert_exporter": "python",
   "pygments_lexer": "ipython3",
   "version": "3.10.14"
  }
 },
 "nbformat": 4,
 "nbformat_minor": 5
}
