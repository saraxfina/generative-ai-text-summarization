{
 "cells": [
  {
   "cell_type": "markdown",
   "id": "ddd93bac-ccd4-45d2-a2c9-056c0dee2092",
   "metadata": {},
   "source": [
    "## Notebook for Loading the CNN_Dailymail Dataset from HuggingFace"
   ]
  },
  {
   "cell_type": "markdown",
   "id": "b4aab4d0-047a-49e8-99a6-fb01d3d39821",
   "metadata": {},
   "source": [
    "#### Imports"
   ]
  },
  {
   "cell_type": "code",
   "execution_count": 2,
   "id": "4f42265f-eab1-44fa-99bf-9f00e2f431c3",
   "metadata": {
    "tags": []
   },
   "outputs": [],
   "source": [
    "import datasets \n",
    "import pandas as pd\n",
    "from datasets import load_dataset\n",
    "import numpy as np\n",
    "import sklearn\n",
    "from sklearn.model_selection import train_test_split"
   ]
  },
  {
   "cell_type": "markdown",
   "id": "d9021bf9-53ae-47fc-a6d4-d2c16ffae959",
   "metadata": {},
   "source": [
    "Data originates from [the CNN Dailymail huggingface dataset.](https://huggingface.co/datasets/cnn_dailymail)"
   ]
  },
  {
   "cell_type": "markdown",
   "id": "ea467e17-1955-41a6-b1af-991b984a1cbb",
   "metadata": {},
   "source": [
    "#### Load Data"
   ]
  },
  {
   "cell_type": "code",
   "execution_count": 52,
   "id": "6550cbc3-9926-4648-b039-d4b86575ba3e",
   "metadata": {},
   "outputs": [],
   "source": [
    "small_dataset = False"
   ]
  },
  {
   "cell_type": "code",
   "execution_count": 53,
   "id": "2ff30d35-ee47-4e86-ab42-adeeb2f36810",
   "metadata": {
    "tags": []
   },
   "outputs": [],
   "source": [
    "dataset = load_dataset(\"cnn_dailymail\", \"3.0.0\") \n",
    "\n",
    "if small_dataset:\n",
    "    max_len = 100 # Small Dataset\n",
    "else:\n",
    "    max_len = 1000 # Large Dataset"
   ]
  },
  {
   "cell_type": "code",
   "execution_count": 54,
   "id": "5c9843df-7b03-4965-b5b8-931f17ed72e9",
   "metadata": {
    "tags": []
   },
   "outputs": [],
   "source": [
    "# retrieve up to the specified number of rows \n",
    "# Data is originially in a DatasetDict object with separate Datasets for train, test, and validation. We will be using a subset of the train dataset. \n",
    "dataset = dataset['train'][:max_len]"
   ]
  },
  {
   "cell_type": "code",
   "execution_count": 55,
   "id": "99f6155a-9bb5-4c7e-954b-95f0c0e04a03",
   "metadata": {
    "tags": []
   },
   "outputs": [],
   "source": [
    "# final data structure \n",
    "data = []"
   ]
  },
  {
   "cell_type": "code",
   "execution_count": 56,
   "id": "f757f251-6e95-4a22-956c-d516442fbbd8",
   "metadata": {
    "tags": []
   },
   "outputs": [],
   "source": [
    "# Data is originally in an Arrow DatasetObject. By looping over all three arrays in Dataset object and zipping, we can extract each article, highlight, and id and place into a dictionary in a list. \n",
    "for article, highlight in zip(dataset['article'], dataset['highlights']):\n",
    "    data.append({'article' : article, 'highlights' : highlight})"
   ]
  },
  {
   "cell_type": "markdown",
   "id": "28858cb9-47b4-4acb-8651-f766f4b67a09",
   "metadata": {},
   "source": [
    "#### Convert to Pandas Dataframe"
   ]
  },
  {
   "cell_type": "code",
   "execution_count": 57,
   "id": "eefb0377-180a-498e-a273-741435ab1cce",
   "metadata": {
    "tags": []
   },
   "outputs": [],
   "source": [
    "data = pd.DataFrame.from_dict(data)"
   ]
  },
  {
   "cell_type": "code",
   "execution_count": 58,
   "id": "015745b7-3e8a-4532-9f8c-3beaf7e63eff",
   "metadata": {
    "tags": []
   },
   "outputs": [
    {
     "data": {
      "text/html": [
       "<div>\n",
       "<style scoped>\n",
       "    .dataframe tbody tr th:only-of-type {\n",
       "        vertical-align: middle;\n",
       "    }\n",
       "\n",
       "    .dataframe tbody tr th {\n",
       "        vertical-align: top;\n",
       "    }\n",
       "\n",
       "    .dataframe thead th {\n",
       "        text-align: right;\n",
       "    }\n",
       "</style>\n",
       "<table border=\"1\" class=\"dataframe\">\n",
       "  <thead>\n",
       "    <tr style=\"text-align: right;\">\n",
       "      <th></th>\n",
       "      <th>article</th>\n",
       "      <th>highlights</th>\n",
       "    </tr>\n",
       "  </thead>\n",
       "  <tbody>\n",
       "    <tr>\n",
       "      <th>0</th>\n",
       "      <td>LONDON, England (Reuters) -- Harry Potter star...</td>\n",
       "      <td>Harry Potter star Daniel Radcliffe gets £20M f...</td>\n",
       "    </tr>\n",
       "    <tr>\n",
       "      <th>1</th>\n",
       "      <td>Editor's note: In our Behind the Scenes series...</td>\n",
       "      <td>Mentally ill inmates in Miami are housed on th...</td>\n",
       "    </tr>\n",
       "    <tr>\n",
       "      <th>2</th>\n",
       "      <td>MINNEAPOLIS, Minnesota (CNN) -- Drivers who we...</td>\n",
       "      <td>NEW: \"I thought I was going to die,\" driver sa...</td>\n",
       "    </tr>\n",
       "    <tr>\n",
       "      <th>3</th>\n",
       "      <td>WASHINGTON (CNN) -- Doctors removed five small...</td>\n",
       "      <td>Five small polyps found during procedure; \"non...</td>\n",
       "    </tr>\n",
       "    <tr>\n",
       "      <th>4</th>\n",
       "      <td>(CNN)  -- The National Football League has ind...</td>\n",
       "      <td>NEW: NFL chief, Atlanta Falcons owner critical...</td>\n",
       "    </tr>\n",
       "  </tbody>\n",
       "</table>\n",
       "</div>"
      ],
      "text/plain": [
       "                                             article  \\\n",
       "0  LONDON, England (Reuters) -- Harry Potter star...   \n",
       "1  Editor's note: In our Behind the Scenes series...   \n",
       "2  MINNEAPOLIS, Minnesota (CNN) -- Drivers who we...   \n",
       "3  WASHINGTON (CNN) -- Doctors removed five small...   \n",
       "4  (CNN)  -- The National Football League has ind...   \n",
       "\n",
       "                                          highlights  \n",
       "0  Harry Potter star Daniel Radcliffe gets £20M f...  \n",
       "1  Mentally ill inmates in Miami are housed on th...  \n",
       "2  NEW: \"I thought I was going to die,\" driver sa...  \n",
       "3  Five small polyps found during procedure; \"non...  \n",
       "4  NEW: NFL chief, Atlanta Falcons owner critical...  "
      ]
     },
     "execution_count": 58,
     "metadata": {},
     "output_type": "execute_result"
    }
   ],
   "source": [
    "data.head()"
   ]
  },
  {
   "cell_type": "markdown",
   "id": "e9387cc4-4cac-4c1d-a43b-d4255775e4b6",
   "metadata": {},
   "source": [
    "#### Split Data"
   ]
  },
  {
   "cell_type": "code",
   "execution_count": 59,
   "id": "15b1ab99-d986-44ff-9e5f-1324835ac319",
   "metadata": {
    "tags": []
   },
   "outputs": [],
   "source": [
    "train, test = train_test_split(data, test_size=.2)\n",
    "train, val = train_test_split(train, test_size=.25)\n",
    "\n",
    "X_train = train.iloc[:,0]\n",
    "y_train = train.iloc[:,1]\n",
    "X_test = test.iloc[:,0]\n",
    "y_test = test.iloc[:,1]\n",
    "X_val = val.iloc[:,0]\n",
    "y_val = val.iloc[:,1]"
   ]
  },
  {
   "cell_type": "code",
   "execution_count": 60,
   "id": "8e5b8ded-2ffe-4a8a-8e5c-399e5e7eecbc",
   "metadata": {
    "tags": []
   },
   "outputs": [
    {
     "name": "stdout",
     "output_type": "stream",
     "text": [
      "Train: 600\n",
      "Test: 200\n",
      "Val: 200\n"
     ]
    }
   ],
   "source": [
    "print(\"Train: \" + str(len(X_train)))\n",
    "print(\"Test: \" + str(len(X_test)))\n",
    "print(\"Val: \" + str(len(X_val)))"
   ]
  },
  {
   "cell_type": "markdown",
   "id": "90018ac9-6c96-4246-a7bf-bb01144a62d9",
   "metadata": {},
   "source": [
    "#### Save Preprocessed Data"
   ]
  },
  {
   "cell_type": "code",
   "execution_count": 61,
   "id": "a2a8f2a8-f9a2-440e-b71e-43e2ebe65a91",
   "metadata": {
    "tags": []
   },
   "outputs": [],
   "source": [
    "if small_dataset:\n",
    "    np.savez('../data/cnn_dailymail_small.npz', X_train=X_train, y_train=y_train, X_test=X_test, y_test=y_test, X_val=X_val, y_val=y_val)\n",
    "else:\n",
    "    np.savez('../data/cnn_dailymail.npz' , X_train=X_train, y_train=y_train, X_test=X_test, y_test=y_test, X_val=X_val, y_val=y_val)"
   ]
  },
  {
   "cell_type": "markdown",
   "id": "ece948c5-4454-4102-974c-3abdbae3ca98",
   "metadata": {},
   "source": [
    "#### Example Code for Loading Data"
   ]
  },
  {
   "cell_type": "code",
   "execution_count": 34,
   "id": "a90c46c7-5fd7-4a8c-8e6a-13f91fc40332",
   "metadata": {
    "tags": []
   },
   "outputs": [],
   "source": [
    "# How to load the data\n",
    "data = np.load('../data/cnn_dailymail_small.npz', allow_pickle=True)\n",
    "X_train = data['X_train']\n",
    "y_train = data['y_train']\n",
    "X_test = data['X_test']\n",
    "y_test = data['y_test']\n",
    "X_val = data['X_val']\n",
    "y_val = data['y_val']\n"
   ]
  }
 ],
 "metadata": {
  "kernelspec": {
   "display_name": "capstone",
   "language": "python",
   "name": "capstone"
  },
  "language_info": {
   "codemirror_mode": {
    "name": "ipython",
    "version": 3
   },
   "file_extension": ".py",
   "mimetype": "text/x-python",
   "name": "python",
   "nbconvert_exporter": "python",
   "pygments_lexer": "ipython3",
   "version": "3.10.14"
  }
 },
 "nbformat": 4,
 "nbformat_minor": 5
}
