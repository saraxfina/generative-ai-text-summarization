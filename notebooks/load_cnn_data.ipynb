{
 "cells": [
  {
   "cell_type": "markdown",
   "id": "ddd93bac-ccd4-45d2-a2c9-056c0dee2092",
   "metadata": {},
   "source": [
    "## Notebook for Loading the CNN_Dailymail Dataset from HuggingFace"
   ]
  },
  {
   "cell_type": "markdown",
   "id": "b4aab4d0-047a-49e8-99a6-fb01d3d39821",
   "metadata": {},
   "source": [
    "#### Imports"
   ]
  },
  {
   "cell_type": "code",
   "execution_count": 2,
   "id": "4f42265f-eab1-44fa-99bf-9f00e2f431c3",
   "metadata": {
    "tags": []
   },
   "outputs": [],
   "source": [
    "import datasets \n",
    "from datasets import load_dataset\n",
    "import numpy as np\n",
    "import sklearn\n",
    "from sklearn.model_selection import train_test_split"
   ]
  },
  {
   "cell_type": "markdown",
   "id": "d9021bf9-53ae-47fc-a6d4-d2c16ffae959",
   "metadata": {},
   "source": [
    "Data originates from [the CNN Dailymail huggingface dataset.](https://huggingface.co/datasets/cnn_dailymail)"
   ]
  },
  {
   "cell_type": "markdown",
   "id": "ea467e17-1955-41a6-b1af-991b984a1cbb",
   "metadata": {},
   "source": [
    "#### Load Data"
   ]
  },
  {
   "cell_type": "code",
   "execution_count": null,
   "id": "6550cbc3-9926-4648-b039-d4b86575ba3e",
   "metadata": {},
   "outputs": [],
   "source": [
    "small_dataset = True"
   ]
  },
  {
   "cell_type": "code",
   "execution_count": 8,
   "id": "2ff30d35-ee47-4e86-ab42-adeeb2f36810",
   "metadata": {
    "tags": []
   },
   "outputs": [],
   "source": [
    "dataset = load_dataset(\"cnn_dailymail\", \"3.0.0\") \n",
    "\n",
    "if small_dataset:\n",
    "    max_len = 100 # Small Dataset\n",
    "else:\n",
    "    max_len = 1000 # Large Dataset"
   ]
  },
  {
   "cell_type": "code",
   "execution_count": 9,
   "id": "5c9843df-7b03-4965-b5b8-931f17ed72e9",
   "metadata": {
    "tags": []
   },
   "outputs": [],
   "source": [
    "# retrieve up to the specified number of rows \n",
    "# Data is originially in a DatasetDict object with separate Datasets for train, test, and validation. We will be using a subset of the train dataset. \n",
    "dataset = dataset['train'][:max_len]"
   ]
  },
  {
   "cell_type": "code",
   "execution_count": 10,
   "id": "99f6155a-9bb5-4c7e-954b-95f0c0e04a03",
   "metadata": {
    "tags": []
   },
   "outputs": [],
   "source": [
    "# final data structure \n",
    "data = []"
   ]
  },
  {
   "cell_type": "code",
   "execution_count": 11,
   "id": "f757f251-6e95-4a22-956c-d516442fbbd8",
   "metadata": {
    "tags": []
   },
   "outputs": [],
   "source": [
    "# Data is originally in an Arrow DatasetObject. By looping over all three arrays in Dataset object and zipping, we can extract each article, highlight, and id and place into a dictionary in a list. \n",
    "for article, highlight, id in zip(dataset['article'], dataset['highlights'], dataset['id']):\n",
    "    data.append({'id' : id, 'highlights' : highlight, 'article' : article})"
   ]
  },
  {
   "cell_type": "markdown",
   "id": "e9387cc4-4cac-4c1d-a43b-d4255775e4b6",
   "metadata": {},
   "source": [
    "#### Split Data"
   ]
  },
  {
   "cell_type": "code",
   "execution_count": 14,
   "id": "15b1ab99-d986-44ff-9e5f-1324835ac319",
   "metadata": {
    "tags": []
   },
   "outputs": [],
   "source": [
    "train, test = train_test_split(data, test_size=.2)\n",
    "train, val = train_test_split(train, test_size=.25)"
   ]
  },
  {
   "cell_type": "code",
   "execution_count": 16,
   "id": "8e5b8ded-2ffe-4a8a-8e5c-399e5e7eecbc",
   "metadata": {
    "tags": []
   },
   "outputs": [
    {
     "name": "stdout",
     "output_type": "stream",
     "text": [
      "Train: 60\n",
      "Test: 20\n",
      "Val: 20\n"
     ]
    }
   ],
   "source": [
    "print(\"Train: \" + str(len(train)))\n",
    "print(\"Test: \" + str(len(test)))\n",
    "print(\"Val: \" + str(len(val)))"
   ]
  },
  {
   "cell_type": "markdown",
   "id": "90018ac9-6c96-4246-a7bf-bb01144a62d9",
   "metadata": {},
   "source": [
    "#### Save Preprocessed Data"
   ]
  },
  {
   "cell_type": "code",
   "execution_count": 22,
   "id": "a2a8f2a8-f9a2-440e-b71e-43e2ebe65a91",
   "metadata": {
    "tags": []
   },
   "outputs": [],
   "source": [
    "if small_dataset:\n",
    "    np.savez('../data/cnn_dailymail_small.npz', train=train, test=test, val=val)\n",
    "else:\n",
    "    np.savez('../data/cnn_dailymail.npz' , train=train, test=test, val=val)"
   ]
  },
  {
   "cell_type": "markdown",
   "id": "ece948c5-4454-4102-974c-3abdbae3ca98",
   "metadata": {},
   "source": [
    "#### Example Code for Loading Data"
   ]
  },
  {
   "cell_type": "code",
   "execution_count": 34,
   "id": "a90c46c7-5fd7-4a8c-8e6a-13f91fc40332",
   "metadata": {
    "tags": []
   },
   "outputs": [],
   "source": [
    "# How to load the data\n",
    "data = np.load('../data/cnn_dailymail_small.npz', allow_pickle=True)\n",
    "train = data['train']\n",
    "test = data['test']\n",
    "val = data['val']\n"
   ]
  }
 ],
 "metadata": {
  "kernelspec": {
   "display_name": "capstone",
   "language": "python",
   "name": "capstone"
  },
  "language_info": {
   "codemirror_mode": {
    "name": "ipython",
    "version": 3
   },
   "file_extension": ".py",
   "mimetype": "text/x-python",
   "name": "python",
   "nbconvert_exporter": "python",
   "pygments_lexer": "ipython3",
   "version": "3.10.14"
  }
 },
 "nbformat": 4,
 "nbformat_minor": 5
}
