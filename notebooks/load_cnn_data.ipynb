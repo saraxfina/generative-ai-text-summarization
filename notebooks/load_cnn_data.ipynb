{
 "cells": [
  {
   "cell_type": "code",
   "execution_count": 10,
   "id": "4f42265f-eab1-44fa-99bf-9f00e2f431c3",
   "metadata": {
    "tags": []
   },
   "outputs": [],
   "source": [
    "import datasets \n",
    "from datasets import load_dataset\n",
    "import numpy as np"
   ]
  },
  {
   "cell_type": "code",
   "execution_count": 26,
   "id": "2ff30d35-ee47-4e86-ab42-adeeb2f36810",
   "metadata": {
    "tags": []
   },
   "outputs": [],
   "source": [
    "dataset = load_dataset(\"cnn_dailymail\", \"3.0.0\")\n",
    "\n",
    "max_len = 100 "
   ]
  },
  {
   "cell_type": "code",
   "execution_count": 27,
   "id": "5c9843df-7b03-4965-b5b8-931f17ed72e9",
   "metadata": {
    "tags": []
   },
   "outputs": [],
   "source": [
    "dataset = dataset['train'][:max_len]"
   ]
  },
  {
   "cell_type": "code",
   "execution_count": 28,
   "id": "99f6155a-9bb5-4c7e-954b-95f0c0e04a03",
   "metadata": {
    "tags": []
   },
   "outputs": [],
   "source": [
    "data = []"
   ]
  },
  {
   "cell_type": "code",
   "execution_count": 29,
   "id": "f757f251-6e95-4a22-956c-d516442fbbd8",
   "metadata": {
    "tags": []
   },
   "outputs": [],
   "source": [
    "for article, highlight, id in zip(dataset['article'], dataset['highlights'], dataset['id']):\n",
    "    data.append({'id' : id, 'highlights' : highlight, 'article' : article})"
   ]
  },
  {
   "cell_type": "code",
   "execution_count": 30,
   "id": "15b1ab99-d986-44ff-9e5f-1324835ac319",
   "metadata": {
    "tags": []
   },
   "outputs": [],
   "source": [
    "import sklearn\n",
    "from sklearn.model_selection import train_test_split\n",
    "\n",
    "train, test = train_test_split(data, test_size=.2)\n",
    "\n",
    "train, val = train_test_split(train, test_size=.25)"
   ]
  },
  {
   "cell_type": "code",
   "execution_count": 31,
   "id": "8e5b8ded-2ffe-4a8a-8e5c-399e5e7eecbc",
   "metadata": {
    "tags": []
   },
   "outputs": [
    {
     "data": {
      "text/plain": [
       "20"
      ]
     },
     "execution_count": 31,
     "metadata": {},
     "output_type": "execute_result"
    }
   ],
   "source": [
    "len(val)"
   ]
  },
  {
   "cell_type": "code",
   "execution_count": 22,
   "id": "a2a8f2a8-f9a2-440e-b71e-43e2ebe65a91",
   "metadata": {
    "tags": []
   },
   "outputs": [],
   "source": [
    "np.savez('../data/cnn_dailymail.npz' , train=train, test=test, val=val)"
   ]
  },
  {
   "cell_type": "code",
   "execution_count": 33,
   "id": "453c2fdb-9c4c-4dd1-b044-902bdee61e2a",
   "metadata": {
    "tags": []
   },
   "outputs": [],
   "source": [
    "np.savez('../data/cnn_dailymail_small.npz', train=train, test=test, val=val)"
   ]
  },
  {
   "cell_type": "code",
   "execution_count": 34,
   "id": "a90c46c7-5fd7-4a8c-8e6a-13f91fc40332",
   "metadata": {
    "tags": []
   },
   "outputs": [],
   "source": [
    "# How to load the data\n",
    "data = np.load('../data/cnn_dailymail_small.npz', allow_pickle=True)\n",
    "train = data['train']\n",
    "test = data['test']\n",
    "val = data['val']\n"
   ]
  },
  {
   "cell_type": "code",
   "execution_count": null,
   "id": "81c13990-3a6c-4399-90cd-558cab622f9d",
   "metadata": {},
   "outputs": [],
   "source": []
  }
 ],
 "metadata": {
  "kernelspec": {
   "display_name": "capstone",
   "language": "python",
   "name": "capstone"
  },
  "language_info": {
   "codemirror_mode": {
    "name": "ipython",
    "version": 3
   },
   "file_extension": ".py",
   "mimetype": "text/x-python",
   "name": "python",
   "nbconvert_exporter": "python",
   "pygments_lexer": "ipython3",
   "version": "3.10.14"
  }
 },
 "nbformat": 4,
 "nbformat_minor": 5
}
