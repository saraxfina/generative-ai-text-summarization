{
 "cells": [
  {
   "cell_type": "code",
   "execution_count": 1,
   "id": "bb2a93a4-de84-46c6-9a84-c985897eef01",
   "metadata": {
    "tags": []
   },
   "outputs": [],
   "source": [
    "# Imports\n",
    "import numpy as np\n",
    "import pandas as pd\n",
    "import matplotlib.pyplot as plt\n",
    "import nltk\n",
    "from nltk.probability import FreqDist\n",
    "from nltk.corpus import stopwords\n",
    "import seaborn as sns"
   ]
  },
  {
   "cell_type": "markdown",
   "id": "19ba0dd2",
   "metadata": {},
   "source": [
    "### Load and Review Data"
   ]
  },
  {
   "cell_type": "code",
   "execution_count": 2,
   "id": "6fe4d4e7",
   "metadata": {},
   "outputs": [
    {
     "data": {
      "text/html": [
       "<div>\n",
       "<style scoped>\n",
       "    .dataframe tbody tr th:only-of-type {\n",
       "        vertical-align: middle;\n",
       "    }\n",
       "\n",
       "    .dataframe tbody tr th {\n",
       "        vertical-align: top;\n",
       "    }\n",
       "\n",
       "    .dataframe thead th {\n",
       "        text-align: right;\n",
       "    }\n",
       "</style>\n",
       "<table border=\"1\" class=\"dataframe\">\n",
       "  <thead>\n",
       "    <tr style=\"text-align: right;\">\n",
       "      <th></th>\n",
       "      <th>document</th>\n",
       "      <th>summary</th>\n",
       "    </tr>\n",
       "  </thead>\n",
       "  <tbody>\n",
       "    <tr>\n",
       "      <th>0</th>\n",
       "      <td>ATLANTA, Georgia (CNN) -- It's midnight on the...</td>\n",
       "      <td>Atlanta bar owner converts BBQ smoker into rob...</td>\n",
       "    </tr>\n",
       "    <tr>\n",
       "      <th>1</th>\n",
       "      <td>BAGHDAD, Iraq (CNN)  -- The remains of two U.S...</td>\n",
       "      <td>NEW: Remains found of two U.S. contractors who...</td>\n",
       "    </tr>\n",
       "    <tr>\n",
       "      <th>2</th>\n",
       "      <td>WASHINGTON (CNN) -- Sniper Lee Boyd Malvo said...</td>\n",
       "      <td>Social worker says sniper Lee Boyd Malvo is a ...</td>\n",
       "    </tr>\n",
       "  </tbody>\n",
       "</table>\n",
       "</div>"
      ],
      "text/plain": [
       "                                            document  \\\n",
       "0  ATLANTA, Georgia (CNN) -- It's midnight on the...   \n",
       "1  BAGHDAD, Iraq (CNN)  -- The remains of two U.S...   \n",
       "2  WASHINGTON (CNN) -- Sniper Lee Boyd Malvo said...   \n",
       "\n",
       "                                             summary  \n",
       "0  Atlanta bar owner converts BBQ smoker into rob...  \n",
       "1  NEW: Remains found of two U.S. contractors who...  \n",
       "2  Social worker says sniper Lee Boyd Malvo is a ...  "
      ]
     },
     "execution_count": 2,
     "metadata": {},
     "output_type": "execute_result"
    }
   ],
   "source": [
    "# Load CNN/DailyMail data\n",
    "data_cd = np.load('../data/cnn_dailymail.npz', allow_pickle=True)\n",
    "\n",
    "X_train_cd = data_cd['X_train'] # Where X is Articles (Documents)\n",
    "y_train_cd = data_cd['y_train'] # and y is Highlights (Summaries)\n",
    "X_test_cd = data_cd['X_test']\n",
    "y_test_cd = data_cd['y_test']\n",
    "X_val_cd = data_cd['X_val']\n",
    "y_val_cd = data_cd['y_val']\n",
    "\n",
    "# Concatenate numpy arrays \n",
    "X_cd = np.concatenate([X_train_cd, X_test_cd, X_val_cd]) # All CNN/DailyMail articles\n",
    "y_cd = np.concatenate([y_train_cd, y_test_cd, y_val_cd]) # All CNN/DailyMail highlights\n",
    "\n",
    "# Create dataframe \n",
    "df_cd = pd.DataFrame(\n",
    "    {'document': X_cd,\n",
    "     'summary': y_cd\n",
    "    })\n",
    "\n",
    "# Display first few rows\n",
    "df_cd.head(3)"
   ]
  },
  {
   "cell_type": "code",
   "execution_count": 3,
   "id": "b8e9f40b-8c0b-4e3a-9c39-944057009d8e",
   "metadata": {
    "tags": []
   },
   "outputs": [
    {
     "data": {
      "text/html": [
       "<div>\n",
       "<style scoped>\n",
       "    .dataframe tbody tr th:only-of-type {\n",
       "        vertical-align: middle;\n",
       "    }\n",
       "\n",
       "    .dataframe tbody tr th {\n",
       "        vertical-align: top;\n",
       "    }\n",
       "\n",
       "    .dataframe thead th {\n",
       "        text-align: right;\n",
       "    }\n",
       "</style>\n",
       "<table border=\"1\" class=\"dataframe\">\n",
       "  <thead>\n",
       "    <tr style=\"text-align: right;\">\n",
       "      <th></th>\n",
       "      <th>document</th>\n",
       "      <th>summary</th>\n",
       "    </tr>\n",
       "  </thead>\n",
       "  <tbody>\n",
       "    <tr>\n",
       "      <th>0</th>\n",
       "      <td>Manchester United manager Erik ten Hag, speaki...</td>\n",
       "      <td>Listen to BBC radio commentary &amp; follow live t...</td>\n",
       "    </tr>\n",
       "    <tr>\n",
       "      <th>1</th>\n",
       "      <td>Last updated on .From the section European Foo...</td>\n",
       "      <td>Inter Milan seal their 20th Italian title by b...</td>\n",
       "    </tr>\n",
       "    <tr>\n",
       "      <th>2</th>\n",
       "      <td>The Rwanda asylum scheme certainly doesn’t get...</td>\n",
       "      <td>The prime minister has vowed to keep the Commo...</td>\n",
       "    </tr>\n",
       "  </tbody>\n",
       "</table>\n",
       "</div>"
      ],
      "text/plain": [
       "                                            document  \\\n",
       "0  Manchester United manager Erik ten Hag, speaki...   \n",
       "1  Last updated on .From the section European Foo...   \n",
       "2  The Rwanda asylum scheme certainly doesn’t get...   \n",
       "\n",
       "                                             summary  \n",
       "0  Listen to BBC radio commentary & follow live t...  \n",
       "1  Inter Milan seal their 20th Italian title by b...  \n",
       "2  The prime minister has vowed to keep the Commo...  "
      ]
     },
     "execution_count": 3,
     "metadata": {},
     "output_type": "execute_result"
    }
   ],
   "source": [
    "# Load NewsAPI web-scraped data\n",
    "data_ws = np.load('../data/news_api_data.npz', allow_pickle=True)\n",
    "\n",
    "# Initialize splits\n",
    "X_train_ws = data_ws['X_train'] # Documents\n",
    "y_train_ws = data_ws['y_train'] # Summaries\n",
    "X_test_ws = data_ws['X_test']\n",
    "y_test_ws = data_ws['y_test']\n",
    "X_val_ws = data_ws['X_val']\n",
    "y_val_ws = data_ws['y_val']\n",
    "\n",
    "# Concatenate numpy arrays \n",
    "X_ws = np.concatenate([X_train_ws, X_test_ws, X_val_ws]) \n",
    "y_ws = np.concatenate([y_train_ws, y_test_ws, y_val_ws]) \n",
    "\n",
    "# Create dataframe \n",
    "df_ws = pd.DataFrame(\n",
    "    {'document': X_ws,\n",
    "     'summary': y_ws\n",
    "    })\n",
    "\n",
    "# Display first few rows\n",
    "df_ws.head(3)"
   ]
  },
  {
   "cell_type": "code",
   "execution_count": 4,
   "id": "33d41ae6",
   "metadata": {},
   "outputs": [
    {
     "data": {
      "text/html": [
       "<div>\n",
       "<style scoped>\n",
       "    .dataframe tbody tr th:only-of-type {\n",
       "        vertical-align: middle;\n",
       "    }\n",
       "\n",
       "    .dataframe tbody tr th {\n",
       "        vertical-align: top;\n",
       "    }\n",
       "\n",
       "    .dataframe thead th {\n",
       "        text-align: right;\n",
       "    }\n",
       "</style>\n",
       "<table border=\"1\" class=\"dataframe\">\n",
       "  <thead>\n",
       "    <tr style=\"text-align: right;\">\n",
       "      <th></th>\n",
       "      <th>document</th>\n",
       "      <th>summary</th>\n",
       "    </tr>\n",
       "  </thead>\n",
       "  <tbody>\n",
       "    <tr>\n",
       "      <th>0</th>\n",
       "      <td>ATLANTA, Georgia (CNN) -- It's midnight on the...</td>\n",
       "      <td>Atlanta bar owner converts BBQ smoker into rob...</td>\n",
       "    </tr>\n",
       "    <tr>\n",
       "      <th>1</th>\n",
       "      <td>BAGHDAD, Iraq (CNN)  -- The remains of two U.S...</td>\n",
       "      <td>NEW: Remains found of two U.S. contractors who...</td>\n",
       "    </tr>\n",
       "    <tr>\n",
       "      <th>2</th>\n",
       "      <td>WASHINGTON (CNN) -- Sniper Lee Boyd Malvo said...</td>\n",
       "      <td>Social worker says sniper Lee Boyd Malvo is a ...</td>\n",
       "    </tr>\n",
       "  </tbody>\n",
       "</table>\n",
       "</div>"
      ],
      "text/plain": [
       "                                            document  \\\n",
       "0  ATLANTA, Georgia (CNN) -- It's midnight on the...   \n",
       "1  BAGHDAD, Iraq (CNN)  -- The remains of two U.S...   \n",
       "2  WASHINGTON (CNN) -- Sniper Lee Boyd Malvo said...   \n",
       "\n",
       "                                             summary  \n",
       "0  Atlanta bar owner converts BBQ smoker into rob...  \n",
       "1  NEW: Remains found of two U.S. contractors who...  \n",
       "2  Social worker says sniper Lee Boyd Malvo is a ...  "
      ]
     },
     "execution_count": 4,
     "metadata": {},
     "output_type": "execute_result"
    }
   ],
   "source": [
    "# Make combined dataframe with both CNN/DailyMail and Web-scraped data\n",
    "combined_df = pd.concat([df_cd, df_ws], ignore_index=True)\n",
    "combined_df.head(3)"
   ]
  },
  {
   "cell_type": "code",
   "execution_count": 5,
   "id": "4e226137",
   "metadata": {},
   "outputs": [
    {
     "name": "stdout",
     "output_type": "stream",
     "text": [
      "(1000, 2) (37, 2) (1037, 2)\n"
     ]
    }
   ],
   "source": [
    "# Check shape of both dataframes\n",
    "print(df_cd.shape, df_ws.shape, combined_df.shape)"
   ]
  },
  {
   "cell_type": "code",
   "execution_count": 10,
   "id": "3afb70ce",
   "metadata": {},
   "outputs": [
    {
     "name": "stdout",
     "output_type": "stream",
     "text": [
      "CNN/DailyMail null values:\n",
      "document    0.0\n",
      "summary     0.0\n",
      "dtype: float64\n",
      "\n",
      "WebAPI null values:\n",
      "document    0.0\n",
      "summary     0.0\n",
      "dtype: float64\n"
     ]
    }
   ],
   "source": [
    "# Check for null values\n",
    "print('CNN/DailyMail null values:')\n",
    "print(df_cd.isnull().mean().sort_values(ascending=False))\n",
    "print('\\nWebAPI null values:')\n",
    "print(df_ws.isnull().mean().sort_values(ascending=False))"
   ]
  },
  {
   "cell_type": "code",
   "execution_count": 12,
   "id": "99f7cba1",
   "metadata": {},
   "outputs": [
    {
     "name": "stdout",
     "output_type": "stream",
     "text": [
      "CNN/DailyMail info:\n",
      "\n",
      "<class 'pandas.core.frame.DataFrame'>\n",
      "RangeIndex: 1000 entries, 0 to 999\n",
      "Data columns (total 2 columns):\n",
      " #   Column    Non-Null Count  Dtype \n",
      "---  ------    --------------  ----- \n",
      " 0   document  1000 non-null   object\n",
      " 1   summary   1000 non-null   object\n",
      "dtypes: object(2)\n",
      "memory usage: 3.8 MB\n",
      "\n",
      "WebAPI info:\n",
      "\n",
      "<class 'pandas.core.frame.DataFrame'>\n",
      "RangeIndex: 37 entries, 0 to 36\n",
      "Data columns (total 2 columns):\n",
      " #   Column    Non-Null Count  Dtype \n",
      "---  ------    --------------  ----- \n",
      " 0   document  37 non-null     object\n",
      " 1   summary   37 non-null     object\n",
      "dtypes: object(2)\n",
      "memory usage: 183.3 KB\n"
     ]
    }
   ],
   "source": [
    "# Check size, variables, & dtypes\n",
    "print('CNN/DailyMail info:\\n')\n",
    "df_cd.info(memory_usage='deep')\n",
    "print('\\nWebAPI info:\\n')\n",
    "df_ws.info(memory_usage='deep')"
   ]
  },
  {
   "cell_type": "markdown",
   "id": "bcae1bc1",
   "metadata": {},
   "source": [
    "### Text-Specific Analysis"
   ]
  },
  {
   "cell_type": "code",
   "execution_count": 13,
   "id": "66b3941e",
   "metadata": {},
   "outputs": [
    {
     "data": {
      "text/html": [
       "<div>\n",
       "<style scoped>\n",
       "    .dataframe tbody tr th:only-of-type {\n",
       "        vertical-align: middle;\n",
       "    }\n",
       "\n",
       "    .dataframe tbody tr th {\n",
       "        vertical-align: top;\n",
       "    }\n",
       "\n",
       "    .dataframe thead th {\n",
       "        text-align: right;\n",
       "    }\n",
       "</style>\n",
       "<table border=\"1\" class=\"dataframe\">\n",
       "  <thead>\n",
       "    <tr style=\"text-align: right;\">\n",
       "      <th></th>\n",
       "      <th>document</th>\n",
       "      <th>summary</th>\n",
       "      <th>doc_length</th>\n",
       "      <th>sum_length</th>\n",
       "    </tr>\n",
       "  </thead>\n",
       "  <tbody>\n",
       "    <tr>\n",
       "      <th>0</th>\n",
       "      <td>ATLANTA, Georgia (CNN) -- It's midnight on the...</td>\n",
       "      <td>Atlanta bar owner converts BBQ smoker into rob...</td>\n",
       "      <td>822</td>\n",
       "      <td>38</td>\n",
       "    </tr>\n",
       "    <tr>\n",
       "      <th>1</th>\n",
       "      <td>BAGHDAD, Iraq (CNN)  -- The remains of two U.S...</td>\n",
       "      <td>NEW: Remains found of two U.S. contractors who...</td>\n",
       "      <td>845</td>\n",
       "      <td>52</td>\n",
       "    </tr>\n",
       "    <tr>\n",
       "      <th>2</th>\n",
       "      <td>WASHINGTON (CNN) -- Sniper Lee Boyd Malvo said...</td>\n",
       "      <td>Social worker says sniper Lee Boyd Malvo is a ...</td>\n",
       "      <td>652</td>\n",
       "      <td>36</td>\n",
       "    </tr>\n",
       "  </tbody>\n",
       "</table>\n",
       "</div>"
      ],
      "text/plain": [
       "                                            document  \\\n",
       "0  ATLANTA, Georgia (CNN) -- It's midnight on the...   \n",
       "1  BAGHDAD, Iraq (CNN)  -- The remains of two U.S...   \n",
       "2  WASHINGTON (CNN) -- Sniper Lee Boyd Malvo said...   \n",
       "\n",
       "                                             summary  doc_length  sum_length  \n",
       "0  Atlanta bar owner converts BBQ smoker into rob...         822          38  \n",
       "1  NEW: Remains found of two U.S. contractors who...         845          52  \n",
       "2  Social worker says sniper Lee Boyd Malvo is a ...         652          36  "
      ]
     },
     "execution_count": 13,
     "metadata": {},
     "output_type": "execute_result"
    }
   ],
   "source": [
    "# Create new columns 'doc_length' and 'sum_length'\n",
    "\n",
    "# Document length\n",
    "combined_df['words'] = combined_df['document'].str.split()\n",
    "combined_df['doc_length'] = combined_df['words'].str.len()\n",
    "combined_df = combined_df.drop(columns=['words'])\n",
    "\n",
    "# Summary length\n",
    "combined_df['words'] = combined_df['summary'].str.split()\n",
    "combined_df['sum_length'] = combined_df['words'].str.len()\n",
    "combined_df = combined_df.drop(columns=['words'])\n",
    "\n",
    "# Check new columns added \n",
    "combined_df.head(3)"
   ]
  },
  {
   "cell_type": "code",
   "execution_count": 14,
   "id": "ea0b955c",
   "metadata": {},
   "outputs": [
    {
     "data": {
      "text/html": [
       "<div>\n",
       "<style scoped>\n",
       "    .dataframe tbody tr th:only-of-type {\n",
       "        vertical-align: middle;\n",
       "    }\n",
       "\n",
       "    .dataframe tbody tr th {\n",
       "        vertical-align: top;\n",
       "    }\n",
       "\n",
       "    .dataframe thead th {\n",
       "        text-align: right;\n",
       "    }\n",
       "</style>\n",
       "<table border=\"1\" class=\"dataframe\">\n",
       "  <thead>\n",
       "    <tr style=\"text-align: right;\">\n",
       "      <th></th>\n",
       "      <th>doc_length</th>\n",
       "      <th>sum_length</th>\n",
       "    </tr>\n",
       "  </thead>\n",
       "  <tbody>\n",
       "    <tr>\n",
       "      <th>count</th>\n",
       "      <td>1037.000000</td>\n",
       "      <td>1037.000000</td>\n",
       "    </tr>\n",
       "    <tr>\n",
       "      <th>mean</th>\n",
       "      <td>588.103182</td>\n",
       "      <td>41.989392</td>\n",
       "    </tr>\n",
       "    <tr>\n",
       "      <th>std</th>\n",
       "      <td>298.583891</td>\n",
       "      <td>8.485218</td>\n",
       "    </tr>\n",
       "    <tr>\n",
       "      <th>min</th>\n",
       "      <td>50.000000</td>\n",
       "      <td>12.000000</td>\n",
       "    </tr>\n",
       "    <tr>\n",
       "      <th>25%</th>\n",
       "      <td>353.000000</td>\n",
       "      <td>36.000000</td>\n",
       "    </tr>\n",
       "    <tr>\n",
       "      <th>50%</th>\n",
       "      <td>538.000000</td>\n",
       "      <td>43.000000</td>\n",
       "    </tr>\n",
       "    <tr>\n",
       "      <th>75%</th>\n",
       "      <td>779.000000</td>\n",
       "      <td>49.000000</td>\n",
       "    </tr>\n",
       "    <tr>\n",
       "      <th>max</th>\n",
       "      <td>2845.000000</td>\n",
       "      <td>66.000000</td>\n",
       "    </tr>\n",
       "  </tbody>\n",
       "</table>\n",
       "</div>"
      ],
      "text/plain": [
       "        doc_length   sum_length\n",
       "count  1037.000000  1037.000000\n",
       "mean    588.103182    41.989392\n",
       "std     298.583891     8.485218\n",
       "min      50.000000    12.000000\n",
       "25%     353.000000    36.000000\n",
       "50%     538.000000    43.000000\n",
       "75%     779.000000    49.000000\n",
       "max    2845.000000    66.000000"
      ]
     },
     "execution_count": 14,
     "metadata": {},
     "output_type": "execute_result"
    }
   ],
   "source": [
    "# Summary statistics for document and summary length\n",
    "combined_df.describe(exclude=['O'])"
   ]
  },
  {
   "cell_type": "code",
   "execution_count": 25,
   "id": "bfb0943e",
   "metadata": {},
   "outputs": [
    {
     "data": {
      "image/png": "[encoded data removed]",
      "text/plain": [
       "<Figure size 432x288 with 2 Axes>"
      ]
     },
     "metadata": {
      "needs_background": "light"
     },
     "output_type": "display_data"
    }
   ],
   "source": [
    "# Plot histograms of document & summary length\n",
    "dist1 = combined_df['doc_length']\n",
    "dist2 = combined_df['sum_length']\n",
    "\n",
    "# Subplot for displaying 2 histograms\n",
    "fig, (ax1, ax2) = plt.subplots(1, 2, sharey=True, tight_layout=True);\n",
    "\n",
    "ax1.hist(dist1)\n",
    "ax1.set_title('Documents')\n",
    "ax1.set_xlabel('word count')\n",
    "ax1.set_ylabel('frequency')\n",
    "\n",
    "ax2.hist(dist2)\n",
    "ax2.set_title('Summaries')\n",
    "ax2.set_xlabel('word count')\n",
    "ax2.set_ylabel('frequency')\n",
    "\n",
    "fig.suptitle('Distributions of Text Lengths', fontsize=16);"
   ]
  },
  {
   "cell_type": "code",
   "execution_count": 26,
   "id": "b823365b",
   "metadata": {},
   "outputs": [],
   "source": [
    "# Text frequency analysis (excluding stopwords)\n",
    "stop_words = stopwords.words(\"english\")"
   ]
  },
  {
   "cell_type": "code",
   "execution_count": 27,
   "id": "6dab8ef8",
   "metadata": {},
   "outputs": [],
   "source": [
    "# Define funtion for word frequency\n",
    "def analyze_word_frequency(text_data):\n",
    "\n",
    "  words = [word.lower() for word in text_data.split() if word not in stop_words]\n",
    "\n",
    "  from collections import Counter\n",
    "\n",
    "  word_counts = Counter(words)\n",
    "\n",
    "  most_frequent_words = word_counts.most_common(10)  # Top 10 most frequent words\n",
    "\n",
    "  return most_frequent_words"
   ]
  },
  {
   "cell_type": "code",
   "execution_count": 28,
   "id": "dfcee66c",
   "metadata": {},
   "outputs": [],
   "source": [
    "# Analyze word frequency in documents and summaries\n",
    "document_word_freqs = analyze_word_frequency(\" \".join(combined_df[\"document\"]))\n",
    "summary_word_freqs = analyze_word_frequency(\" \".join(combined_df[\"summary\"]))"
   ]
  },
  {
   "cell_type": "code",
   "execution_count": 29,
   "id": "2d7f54d3",
   "metadata": {},
   "outputs": [
    {
     "name": "stdout",
     "output_type": "stream",
     "text": [
      "Top 10 most frequent words (excluding stopwords) in documents:\n",
      "[('the', 4131), ('said', 3719), ('--', 3071), ('said.', 2538), ('i', 2183), ('.', 2025), ('one', 1256), ('would', 1140), ('people', 1094), ('also', 1081)]\n",
      "Top 10 most frequent words (excluding stopwords) in summaries:\n",
      "[('.', 3340), ('says', 451), ('new:', 217), ('the', 173), ('u.s.', 167), ('say', 146), ('police', 108), ('two', 99), ('president', 98), ('people', 95)]\n"
     ]
    }
   ],
   "source": [
    "print(\"Top 10 most frequent words (excluding stopwords) in documents:\")\n",
    "print(document_word_freqs)\n",
    "print(\"Top 10 most frequent words (excluding stopwords) in summaries:\")\n",
    "print(summary_word_freqs)"
   ]
  },
  {
   "cell_type": "markdown",
   "id": "411874e9",
   "metadata": {},
   "source": [
    "### Visualize Data Insights"
   ]
  },
  {
   "cell_type": "code",
   "execution_count": 34,
   "id": "ac3a6d24",
   "metadata": {},
   "outputs": [
    {
     "name": "stdout",
     "output_type": "stream",
     "text": [
      "Number of document outliers: 10\n",
      "Number of summary outliers: 8\n"
     ]
    },
    {
     "data": {
      "image/png": "[encoded data removed]",
      "text/plain": [
       "<Figure size 432x288 with 2 Axes>"
      ]
     },
     "metadata": {
      "needs_background": "light"
     },
     "output_type": "display_data"
    }
   ],
   "source": [
    "# Calculate IQR for documents\n",
    "doc_Q1 = combined_df['doc_length'].quantile(0.25)\n",
    "doc_Q3 = combined_df['doc_length'].quantile(0.75)\n",
    "doc_IQR = doc_Q3 - doc_Q1\n",
    "\n",
    "# Calculate IQR for summaries\n",
    "sum_Q1 = combined_df['sum_length'].quantile(0.25)\n",
    "sum_Q3 = combined_df['sum_length'].quantile(0.75)\n",
    "sum_IQR = sum_Q3 - sum_Q1\n",
    "\n",
    "# Get bounds for determining outliers\n",
    "doc_lb = doc_Q1 - 1.5 * doc_IQR\n",
    "doc_ub = doc_Q3 + 1.5 * doc_IQR\n",
    "sum_lb = sum_Q1 - 1.5 * sum_IQR\n",
    "sum_ub = sum_Q3 + 1.5 * sum_IQR\n",
    "\n",
    "# Identify outliers\n",
    "doc_outliers = combined_df[(combined_df['doc_length'] < doc_lb) | (combined_df['doc_length'] > doc_ub)]\n",
    "sum_outliers = combined_df[(combined_df['sum_length'] < sum_lb) | (combined_df['sum_length'] > sum_ub)]\n",
    "\n",
    "print(f\"Number of document outliers: {len(doc_outliers)}\")\n",
    "print(f\"Number of summary outliers: {len(sum_outliers)}\")\n",
    "\n",
    "# Define dimensions of subplots (rows, columns)\n",
    "fig, axes = plt.subplots(2, 1)\n",
    "\n",
    "# Boxplots for subplot\n",
    "sns.boxplot(data=combined_df, x='doc_length', ax=axes[0]);\n",
    "sns.boxplot(data=combined_df, x='sum_length', ax=axes[1]);"
   ]
  },
  {
   "cell_type": "code",
   "execution_count": 36,
   "id": "aea3b3bc",
   "metadata": {},
   "outputs": [
    {
     "data": {
      "text/html": [
       "<div>\n",
       "<style scoped>\n",
       "    .dataframe tbody tr th:only-of-type {\n",
       "        vertical-align: middle;\n",
       "    }\n",
       "\n",
       "    .dataframe tbody tr th {\n",
       "        vertical-align: top;\n",
       "    }\n",
       "\n",
       "    .dataframe thead th {\n",
       "        text-align: right;\n",
       "    }\n",
       "</style>\n",
       "<table border=\"1\" class=\"dataframe\">\n",
       "  <thead>\n",
       "    <tr style=\"text-align: right;\">\n",
       "      <th></th>\n",
       "      <th>document</th>\n",
       "      <th>summary</th>\n",
       "      <th>doc_length</th>\n",
       "      <th>sum_length</th>\n",
       "    </tr>\n",
       "  </thead>\n",
       "  <tbody>\n",
       "    <tr>\n",
       "      <th>30</th>\n",
       "      <td>(CNN) -- CNN.com reader Kristy O'Connor took a...</td>\n",
       "      <td>I-Reporters share tales of meeting Heath Ledge...</td>\n",
       "      <td>1743</td>\n",
       "      <td>36</td>\n",
       "    </tr>\n",
       "    <tr>\n",
       "      <th>150</th>\n",
       "      <td>(Mental Floss) -- There have been presidential...</td>\n",
       "      <td>President Harding's illegitimate daughter was ...</td>\n",
       "      <td>1577</td>\n",
       "      <td>43</td>\n",
       "    </tr>\n",
       "    <tr>\n",
       "      <th>288</th>\n",
       "      <td>CNN Student News -- June 29, 2007 . Transcript...</td>\n",
       "      <td>Get a glimpse at the next generation of gadget...</td>\n",
       "      <td>1464</td>\n",
       "      <td>28</td>\n",
       "    </tr>\n",
       "    <tr>\n",
       "      <th>320</th>\n",
       "      <td>LONDON, England (CNN) -- Prince Harry led trib...</td>\n",
       "      <td>Prince Harry describes Princess Diana as \"the ...</td>\n",
       "      <td>1665</td>\n",
       "      <td>43</td>\n",
       "    </tr>\n",
       "    <tr>\n",
       "      <th>321</th>\n",
       "      <td>If you're like us, you eat out more than ever ...</td>\n",
       "      <td>Health magazine names Top 10 chain restaurants...</td>\n",
       "      <td>1551</td>\n",
       "      <td>39</td>\n",
       "    </tr>\n",
       "    <tr>\n",
       "      <th>355</th>\n",
       "      <td>BAGHDAD, Iraq (CNN)  -- Four U.S. soldiers die...</td>\n",
       "      <td>NEW: As Iraq war enters sixth year, American d...</td>\n",
       "      <td>1427</td>\n",
       "      <td>56</td>\n",
       "    </tr>\n",
       "    <tr>\n",
       "      <th>791</th>\n",
       "      <td>(CNN Student News) -- Record the CNN Special I...</td>\n",
       "      <td>Learn about autism spectrum disorders (ASD)\\nE...</td>\n",
       "      <td>1589</td>\n",
       "      <td>26</td>\n",
       "    </tr>\n",
       "    <tr>\n",
       "      <th>880</th>\n",
       "      <td>(InStyle.com) -- We asked five stars for their...</td>\n",
       "      <td>Perfumes trigger strong memories for stars .\\n...</td>\n",
       "      <td>1469</td>\n",
       "      <td>26</td>\n",
       "    </tr>\n",
       "    <tr>\n",
       "      <th>1007</th>\n",
       "      <td>Editor’s Note: Sign up to get this weekly colu...</td>\n",
       "      <td>After two months of inaction partly induced by...</td>\n",
       "      <td>2845</td>\n",
       "      <td>24</td>\n",
       "    </tr>\n",
       "    <tr>\n",
       "      <th>1016</th>\n",
       "      <td>On April 19, 1824, Lord Byron died at Missolon...</td>\n",
       "      <td>On the 200th anniversary of his death, two new...</td>\n",
       "      <td>1574</td>\n",
       "      <td>28</td>\n",
       "    </tr>\n",
       "  </tbody>\n",
       "</table>\n",
       "</div>"
      ],
      "text/plain": [
       "                                               document  \\\n",
       "30    (CNN) -- CNN.com reader Kristy O'Connor took a...   \n",
       "150   (Mental Floss) -- There have been presidential...   \n",
       "288   CNN Student News -- June 29, 2007 . Transcript...   \n",
       "320   LONDON, England (CNN) -- Prince Harry led trib...   \n",
       "321   If you're like us, you eat out more than ever ...   \n",
       "355   BAGHDAD, Iraq (CNN)  -- Four U.S. soldiers die...   \n",
       "791   (CNN Student News) -- Record the CNN Special I...   \n",
       "880   (InStyle.com) -- We asked five stars for their...   \n",
       "1007  Editor’s Note: Sign up to get this weekly colu...   \n",
       "1016  On April 19, 1824, Lord Byron died at Missolon...   \n",
       "\n",
       "                                                summary  doc_length  \\\n",
       "30    I-Reporters share tales of meeting Heath Ledge...        1743   \n",
       "150   President Harding's illegitimate daughter was ...        1577   \n",
       "288   Get a glimpse at the next generation of gadget...        1464   \n",
       "320   Prince Harry describes Princess Diana as \"the ...        1665   \n",
       "321   Health magazine names Top 10 chain restaurants...        1551   \n",
       "355   NEW: As Iraq war enters sixth year, American d...        1427   \n",
       "791   Learn about autism spectrum disorders (ASD)\\nE...        1589   \n",
       "880   Perfumes trigger strong memories for stars .\\n...        1469   \n",
       "1007  After two months of inaction partly induced by...        2845   \n",
       "1016  On the 200th anniversary of his death, two new...        1574   \n",
       "\n",
       "      sum_length  \n",
       "30            36  \n",
       "150           43  \n",
       "288           28  \n",
       "320           43  \n",
       "321           39  \n",
       "355           56  \n",
       "791           26  \n",
       "880           26  \n",
       "1007          24  \n",
       "1016          28  "
      ]
     },
     "execution_count": 36,
     "metadata": {},
     "output_type": "execute_result"
    }
   ],
   "source": [
    "# Outlier rows by document length\n",
    "doc_outliers"
   ]
  },
  {
   "cell_type": "code",
   "execution_count": 37,
   "id": "9ead09b9",
   "metadata": {},
   "outputs": [
    {
     "data": {
      "text/html": [
       "<div>\n",
       "<style scoped>\n",
       "    .dataframe tbody tr th:only-of-type {\n",
       "        vertical-align: middle;\n",
       "    }\n",
       "\n",
       "    .dataframe tbody tr th {\n",
       "        vertical-align: top;\n",
       "    }\n",
       "\n",
       "    .dataframe thead th {\n",
       "        text-align: right;\n",
       "    }\n",
       "</style>\n",
       "<table border=\"1\" class=\"dataframe\">\n",
       "  <thead>\n",
       "    <tr style=\"text-align: right;\">\n",
       "      <th></th>\n",
       "      <th>document</th>\n",
       "      <th>summary</th>\n",
       "      <th>doc_length</th>\n",
       "      <th>sum_length</th>\n",
       "    </tr>\n",
       "  </thead>\n",
       "  <tbody>\n",
       "    <tr>\n",
       "      <th>1004</th>\n",
       "      <td>After months of delay, the House of Representa...</td>\n",
       "      <td>World leaders have been repeating calls for de...</td>\n",
       "      <td>135</td>\n",
       "      <td>15</td>\n",
       "    </tr>\n",
       "    <tr>\n",
       "      <th>1006</th>\n",
       "      <td>Red Bull team principal Christian Horner told ...</td>\n",
       "      <td>Follow live text and BBC Radio 5 Sports Extra ...</td>\n",
       "      <td>161</td>\n",
       "      <td>15</td>\n",
       "    </tr>\n",
       "    <tr>\n",
       "      <th>1014</th>\n",
       "      <td>Donald Trump has just returned to the courtroo...</td>\n",
       "      <td>Lawyers will outline their cases in front of j...</td>\n",
       "      <td>114</td>\n",
       "      <td>16</td>\n",
       "    </tr>\n",
       "    <tr>\n",
       "      <th>1015</th>\n",
       "      <td>A premature baby was saved when doctors perfor...</td>\n",
       "      <td>The infant's entire immediate family died in I...</td>\n",
       "      <td>113</td>\n",
       "      <td>15</td>\n",
       "    </tr>\n",
       "    <tr>\n",
       "      <th>1017</th>\n",
       "      <td>Eve O. Schaub is the author of “Year of No Gar...</td>\n",
       "      <td>It might seem counterintuitive, but plastic as...</td>\n",
       "      <td>882</td>\n",
       "      <td>12</td>\n",
       "    </tr>\n",
       "    <tr>\n",
       "      <th>1026</th>\n",
       "      <td>Manchester's Brendan Loughnane returned to win...</td>\n",
       "      <td>Manchester fighter Brendan Loughnane opens his...</td>\n",
       "      <td>180</td>\n",
       "      <td>16</td>\n",
       "    </tr>\n",
       "    <tr>\n",
       "      <th>1031</th>\n",
       "      <td>Britain's Kerenza Bryson won gold in the women...</td>\n",
       "      <td>Britain's Kerenza Bryson wins gold at the Pent...</td>\n",
       "      <td>119</td>\n",
       "      <td>13</td>\n",
       "    </tr>\n",
       "    <tr>\n",
       "      <th>1034</th>\n",
       "      <td>They stretched their lead eight minutes into t...</td>\n",
       "      <td>Matty Nicholson's late try helps Warrington co...</td>\n",
       "      <td>446</td>\n",
       "      <td>16</td>\n",
       "    </tr>\n",
       "  </tbody>\n",
       "</table>\n",
       "</div>"
      ],
      "text/plain": [
       "                                               document  \\\n",
       "1004  After months of delay, the House of Representa...   \n",
       "1006  Red Bull team principal Christian Horner told ...   \n",
       "1014  Donald Trump has just returned to the courtroo...   \n",
       "1015  A premature baby was saved when doctors perfor...   \n",
       "1017  Eve O. Schaub is the author of “Year of No Gar...   \n",
       "1026  Manchester's Brendan Loughnane returned to win...   \n",
       "1031  Britain's Kerenza Bryson won gold in the women...   \n",
       "1034  They stretched their lead eight minutes into t...   \n",
       "\n",
       "                                                summary  doc_length  \\\n",
       "1004  World leaders have been repeating calls for de...         135   \n",
       "1006  Follow live text and BBC Radio 5 Sports Extra ...         161   \n",
       "1014  Lawyers will outline their cases in front of j...         114   \n",
       "1015  The infant's entire immediate family died in I...         113   \n",
       "1017  It might seem counterintuitive, but plastic as...         882   \n",
       "1026  Manchester fighter Brendan Loughnane opens his...         180   \n",
       "1031  Britain's Kerenza Bryson wins gold at the Pent...         119   \n",
       "1034  Matty Nicholson's late try helps Warrington co...         446   \n",
       "\n",
       "      sum_length  \n",
       "1004          15  \n",
       "1006          15  \n",
       "1014          16  \n",
       "1015          15  \n",
       "1017          12  \n",
       "1026          16  \n",
       "1031          13  \n",
       "1034          16  "
      ]
     },
     "execution_count": 37,
     "metadata": {},
     "output_type": "execute_result"
    }
   ],
   "source": [
    "# Outlier rows by summary length\n",
    "sum_outliers"
   ]
  },
  {
   "cell_type": "code",
   "execution_count": 40,
   "id": "89c80348",
   "metadata": {},
   "outputs": [
    {
     "data": {
      "text/plain": [
       "(1019, 4)"
      ]
     },
     "execution_count": 40,
     "metadata": {},
     "output_type": "execute_result"
    }
   ],
   "source": [
    "# Filter outliers\n",
    "updated_df = combined_df[(combined_df[\"doc_length\"] > doc_lb) & (combined_df['doc_length'] < doc_ub)]\n",
    "updated_df = updated_df[(updated_df[\"sum_length\"] > sum_lb) & (updated_df['sum_length'] < doc_ub)]\n",
    "updated_df.shape"
   ]
  },
  {
   "cell_type": "code",
   "execution_count": null,
   "id": "1302fd06",
   "metadata": {},
   "outputs": [],
   "source": []
  }
 ],
 "metadata": {
  "kernelspec": {
   "display_name": "Python 3 (ipykernel)",
   "language": "python",
   "name": "python3"
  },
  "language_info": {
   "codemirror_mode": {
    "name": "ipython",
    "version": 3
   },
   "file_extension": ".py",
   "mimetype": "text/x-python",
   "name": "python",
   "nbconvert_exporter": "python",
   "pygments_lexer": "ipython3",
   "version": "3.9.7"
  }
 },
 "nbformat": 4,
 "nbformat_minor": 5
}
