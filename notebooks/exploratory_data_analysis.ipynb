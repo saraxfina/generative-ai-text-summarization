{
 "cells": [
  {
   "cell_type": "code",
   "execution_count": 1,
   "id": "bb2a93a4-de84-46c6-9a84-c985897eef01",
   "metadata": {
    "tags": []
   },
   "outputs": [],
   "source": [
    "# Imports\n",
    "import numpy as np\n",
    "import pandas as pd"
   ]
  },
  {
   "cell_type": "code",
   "execution_count": 24,
   "id": "6fe4d4e7",
   "metadata": {},
   "outputs": [],
   "source": [
    "# Load CNN/DailyMail data (small set)\n",
    "#data = np.load('../data/cnn_dailymail.npz', allow_pickle=True)\n",
    "#data = np.load('../data/cnn_dailymail_small.npz', allow_pickle=True)"
   ]
  },
  {
   "cell_type": "code",
   "execution_count": 23,
   "id": "b8e9f40b-8c0b-4e3a-9c39-944057009d8e",
   "metadata": {
    "tags": []
   },
   "outputs": [
    {
     "name": "stdout",
     "output_type": "stream",
     "text": [
      "['\"However, we do believe that there has been a pattern of behaviour that falls below the standards expected of MPs and individuals looking after donations to local campaign funds which lie outside the direct jurisdiction of the Conservative party.\"'\n",
      " 'The navy said as there were no other aircraft nor vessels in nearby waters, involvement of another country in the incident was unlikely.'\n",
      " 'Getty Images Copyright: Getty Images This file photo shows Sudanese migrants sitting near a centre run by MSF in Calais Image caption: This file photo shows Sudanese migrants sitting near a centre run by MSF in Calais\\n\\nThe boss of the UK arm of Médecins Sans Frontières, also known as Doctors Without Borders, has criticised the UK\\'s Rwanda policy - saying \"there is no evidence\" it will act as a deterrent and stop the boats (something ministers have previously said).\\n\\nNatalie Roberts describes people making the journey across the English Channel as \"some of the most marginalised people on Earth\", and says they will continue to cross despite knowing some \"won\\'t make it\".\\n\\nIn a further statement, MSF UK also calls the policy \"cruel and profoundly dangerous\", labelling it \"another dark chapter\" in the UK\\'s \"brutal approach\" to migration.\\n\\nPrime Minister Rishi Sunak insisted earlier it was \"a matter of basic compassion\" that he wants to stop the boats.\\n\\n\"There\\'s nothing compassionate about allowing the current system to continue,\" he told a press conference in Poland - adding he was \"incredibly sad\" to hear about the deaths of five people earlier today.'\n",
      " 'Manchester United manager Erik ten Hag, speaking to ITV1: \"It was an incredible game, a strange game too. We had total control for so long and then gave it away in the last part of the game. We did show resilience to win the penalty shootout.\\n\\n\"We had control for 75 minutes and have to give Coventry a compliment for what they did in the last 15 minutes.\\n\\n\"We have to improve. We talk a lot about this. First you have to put yourself in a winning position but then you have to take it over the line. In these moments we are making mistakes and not keeping our responsibilities.\"\\n\\nOn whether there is a problem with mentality: \"We can\\'t say this group doesn\\'t have the right mentality because they showed character today, but in the final part there was a lack of discipline.\\n\\n\"We have to keep the ball, keep making passes, go for goal and then also be strong in defence. It\\'s about communication and we have to improve on this.\"\\n\\nOn what he said before penalties: \"It was about mentality in that moment. You have a plan and have full confidence so I told them to stick to the plan.\\n\\n\"I had confidence we would win the shootout. Normally Casemiro scores, we train them very well.\"\\n\\nOn the feeling in the group after the game: \"It\\'s mixed feelings. We can be happy with the achievement, getting to the final, that\\'s huge.\\n\\n\"Even the big Manchester United only achieved it three times and we achieved it twice in two years. We need to win that final though. When we 100% in it then we can do it.\\n\\nOn whether they need to win the FA Cup for it to be a successful season: \"I want to win it. I\\'m sure we have a good chance to win this final, although we play the best team in the world.\\n\\n\"We do have a chance though. We showed that this season.\\n\\n\"This season has had many ups but also many downs. Winning the FA Cup doesn\\'t make it successful, we want to win more.\\n\\n\"We have been in three finals in two years, which is good, but we had a lot of setbacks this season.\\n\\n\"We\\'ve had a lot of injuries and hopefully those players can be back for the final. If we go with a squad who believe then we have a chance to win a trophy.\"'\n",
      " 'Mr Khan said: \"I\\'m hoping that reassures the Lawrence family, Doreen in particular, that under the new leadership in the Met police service, they will redouble their efforts to make sure Doreen and family think that this police service have learned lessons from yesteryear.\"'\n",
      " '\"Really anything is possible if you put your mind to it,\" she said. \"With a bit of work, you can achieve it.\"']\n"
     ]
    }
   ],
   "source": [
    "# Load NewsAPI web-scraped data (small set)\n",
    "data = np.load('../data/news_api_data_small.npz', allow_pickle=True)\n",
    "\n",
    "# Initialize splits\n",
    "X_train = data['X_train'] # Articles\n",
    "y_train = data['y_train'] # Highlights\n",
    "X_test = data['X_test']\n",
    "y_test = data['y_test']\n",
    "X_val = data['X_val']\n",
    "y_val = data['y_val']\n",
    "\n",
    "print(X_train) # X_train is a numpy array of Articles"
   ]
  },
  {
   "cell_type": "code",
   "execution_count": 26,
   "id": "73f604cb",
   "metadata": {},
   "outputs": [
    {
     "name": "stdout",
     "output_type": "stream",
     "text": [
      "The navy said as there were no other aircraft nor vessels in nearby waters, involvement of another country in the incident was unlikely.\n",
      "Manchester United manager Erik ten Hag, speaking to ITV1: \"It was an incredible game, a strange game too. We had total control for so long and then gave it away in the last part of the game. We did show resilience to win the penalty shootout.\n",
      "\n",
      "\"We had control for 75 minutes and have to give Coventry a compliment for what they did in the last 15 minutes.\n",
      "\n",
      "\"We have to improve. We talk a lot about this. First you have to put yourself in a winning position but then you have to take it over the line. In these moments we are making mistakes and not keeping our responsibilities.\"\n",
      "\n",
      "On whether there is a problem with mentality: \"We can't say this group doesn't have the right mentality because they showed character today, but in the final part there was a lack of discipline.\n",
      "\n",
      "\"We have to keep the ball, keep making passes, go for goal and then also be strong in defence. It's about communication and we have to improve on this.\"\n",
      "\n",
      "On what he said before penalties: \"It was about mentality in that moment. You have a plan and have full confidence so I told them to stick to the plan.\n",
      "\n",
      "\"I had confidence we would win the shootout. Normally Casemiro scores, we train them very well.\"\n",
      "\n",
      "On the feeling in the group after the game: \"It's mixed feelings. We can be happy with the achievement, getting to the final, that's huge.\n",
      "\n",
      "\"Even the big Manchester United only achieved it three times and we achieved it twice in two years. We need to win that final though. When we 100% in it then we can do it.\n",
      "\n",
      "On whether they need to win the FA Cup for it to be a successful season: \"I want to win it. I'm sure we have a good chance to win this final, although we play the best team in the world.\n",
      "\n",
      "\"We do have a chance though. We showed that this season.\n",
      "\n",
      "\"This season has had many ups but also many downs. Winning the FA Cup doesn't make it successful, we want to win more.\n",
      "\n",
      "\"We have been in three finals in two years, which is good, but we had a lot of setbacks this season.\n",
      "\n",
      "\"We've had a lot of injuries and hopefully those players can be back for the final. If we go with a squad who believe then we have a chance to win a trophy.\"\n"
     ]
    }
   ],
   "source": [
    "# Print one article from X_train\n",
    "print(X_train[1]) # this one is more of a sentence than an article\n",
    "print(X_train[3]) # this is a full article"
   ]
  },
  {
   "cell_type": "code",
   "execution_count": 27,
   "id": "e71448c4",
   "metadata": {},
   "outputs": [
    {
     "data": {
      "text/html": [
       "<div>\n",
       "<style scoped>\n",
       "    .dataframe tbody tr th:only-of-type {\n",
       "        vertical-align: middle;\n",
       "    }\n",
       "\n",
       "    .dataframe tbody tr th {\n",
       "        vertical-align: top;\n",
       "    }\n",
       "\n",
       "    .dataframe thead th {\n",
       "        text-align: right;\n",
       "    }\n",
       "</style>\n",
       "<table border=\"1\" class=\"dataframe\">\n",
       "  <thead>\n",
       "    <tr style=\"text-align: right;\">\n",
       "      <th></th>\n",
       "      <th>article</th>\n",
       "      <th>highlights</th>\n",
       "    </tr>\n",
       "  </thead>\n",
       "  <tbody>\n",
       "    <tr>\n",
       "      <th>0</th>\n",
       "      <td>\"However, we do believe that there has been a ...</td>\n",
       "      <td>The Fylde MP will leave Parliament at the next...</td>\n",
       "    </tr>\n",
       "    <tr>\n",
       "      <th>1</th>\n",
       "      <td>The navy said as there were no other aircraft ...</td>\n",
       "      <td>Defence Minister Minoru Kihara said a thorough...</td>\n",
       "    </tr>\n",
       "    <tr>\n",
       "      <th>2</th>\n",
       "      <td>Getty Images Copyright: Getty Images This file...</td>\n",
       "      <td>The prime minister has vowed to keep the Commo...</td>\n",
       "    </tr>\n",
       "    <tr>\n",
       "      <th>3</th>\n",
       "      <td>Manchester United manager Erik ten Hag, speaki...</td>\n",
       "      <td>Listen to BBC radio commentary &amp; follow live t...</td>\n",
       "    </tr>\n",
       "    <tr>\n",
       "      <th>4</th>\n",
       "      <td>Mr Khan said: \"I'm hoping that reassures the L...</td>\n",
       "      <td>An independent police force will review the ca...</td>\n",
       "    </tr>\n",
       "  </tbody>\n",
       "</table>\n",
       "</div>"
      ],
      "text/plain": [
       "                                             article  \\\n",
       "0  \"However, we do believe that there has been a ...   \n",
       "1  The navy said as there were no other aircraft ...   \n",
       "2  Getty Images Copyright: Getty Images This file...   \n",
       "3  Manchester United manager Erik ten Hag, speaki...   \n",
       "4  Mr Khan said: \"I'm hoping that reassures the L...   \n",
       "\n",
       "                                          highlights  \n",
       "0  The Fylde MP will leave Parliament at the next...  \n",
       "1  Defence Minister Minoru Kihara said a thorough...  \n",
       "2  The prime minister has vowed to keep the Commo...  \n",
       "3  Listen to BBC radio commentary & follow live t...  \n",
       "4  An independent police force will review the ca...  "
      ]
     },
     "execution_count": 27,
     "metadata": {},
     "output_type": "execute_result"
    }
   ],
   "source": [
    "# Create dataframe from nparrays\n",
    "df1 = pd.DataFrame(\n",
    "    {'article': X_train,\n",
    "     'highlights': y_train\n",
    "    })\n",
    "df1.head()"
   ]
  },
  {
   "cell_type": "code",
   "execution_count": 29,
   "id": "4e226137",
   "metadata": {},
   "outputs": [
    {
     "data": {
      "text/plain": [
       "(6, 2)"
      ]
     },
     "execution_count": 29,
     "metadata": {},
     "output_type": "execute_result"
    }
   ],
   "source": [
    "df1.shape"
   ]
  },
  {
   "cell_type": "code",
   "execution_count": 30,
   "id": "3afb70ce",
   "metadata": {},
   "outputs": [
    {
     "data": {
      "text/html": [
       "<div>\n",
       "<style scoped>\n",
       "    .dataframe tbody tr th:only-of-type {\n",
       "        vertical-align: middle;\n",
       "    }\n",
       "\n",
       "    .dataframe tbody tr th {\n",
       "        vertical-align: top;\n",
       "    }\n",
       "\n",
       "    .dataframe thead th {\n",
       "        text-align: right;\n",
       "    }\n",
       "</style>\n",
       "<table border=\"1\" class=\"dataframe\">\n",
       "  <thead>\n",
       "    <tr style=\"text-align: right;\">\n",
       "      <th></th>\n",
       "      <th>article</th>\n",
       "      <th>highlights</th>\n",
       "    </tr>\n",
       "  </thead>\n",
       "  <tbody>\n",
       "    <tr>\n",
       "      <th>count</th>\n",
       "      <td>6</td>\n",
       "      <td>6</td>\n",
       "    </tr>\n",
       "    <tr>\n",
       "      <th>unique</th>\n",
       "      <td>6</td>\n",
       "      <td>6</td>\n",
       "    </tr>\n",
       "    <tr>\n",
       "      <th>top</th>\n",
       "      <td>\"However, we do believe that there has been a ...</td>\n",
       "      <td>The Fylde MP will leave Parliament at the next...</td>\n",
       "    </tr>\n",
       "    <tr>\n",
       "      <th>freq</th>\n",
       "      <td>1</td>\n",
       "      <td>1</td>\n",
       "    </tr>\n",
       "  </tbody>\n",
       "</table>\n",
       "</div>"
      ],
      "text/plain": [
       "                                                  article  \\\n",
       "count                                                   6   \n",
       "unique                                                  6   \n",
       "top     \"However, we do believe that there has been a ...   \n",
       "freq                                                    1   \n",
       "\n",
       "                                               highlights  \n",
       "count                                                   6  \n",
       "unique                                                  6  \n",
       "top     The Fylde MP will leave Parliament at the next...  \n",
       "freq                                                    1  "
      ]
     },
     "execution_count": 30,
     "metadata": {},
     "output_type": "execute_result"
    }
   ],
   "source": [
    "df1.describe()"
   ]
  },
  {
   "cell_type": "code",
   "execution_count": null,
   "id": "98e4ccb6-dd88-4c4f-9aeb-d7d7410fab4f",
   "metadata": {},
   "outputs": [],
   "source": []
  }
 ],
 "metadata": {
  "kernelspec": {
   "display_name": "Python 3 (ipykernel)",
   "language": "python",
   "name": "python3"
  },
  "language_info": {
   "codemirror_mode": {
    "name": "ipython",
    "version": 3
   },
   "file_extension": ".py",
   "mimetype": "text/x-python",
   "name": "python",
   "nbconvert_exporter": "python",
   "pygments_lexer": "ipython3",
   "version": "3.9.7"
  }
 },
 "nbformat": 4,
 "nbformat_minor": 5
}
