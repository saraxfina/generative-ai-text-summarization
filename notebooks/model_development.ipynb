{
 "cells": [
  {
   "cell_type": "markdown",
   "id": "816d50dc-80de-47e3-9f42-a5270850ad56",
   "metadata": {},
   "source": [
    "## Model Development"
   ]
  },
  {
   "cell_type": "markdown",
   "id": "51ea80a1-57d1-45ed-a980-bc9db8305a8e",
   "metadata": {},
   "source": [
    "Objective: Develop a custom transformer model using Keras framework and then enhance the project by retraining a pre-trained model for comparision."
   ]
  },
  {
   "cell_type": "markdown",
   "id": "1e461f34-1474-4b48-9e76-3643c2cda081",
   "metadata": {},
   "source": [
    "Hints:\n",
    "- Modular Code: Keep your code modular to facilitate easy switching between the custom model and the BART model for different experiments.\n",
    "- Documentation: Document each step in your model development process, including parameter settings and the rationale behind chosen architectures.\n",
    "- Version Control: Commit all changes, especially new scripts and configurations, to GitHub to maintain a robust version history.\n",
    "- Continuous Monitoring: Regularly monitor training progress using TensorBoard integrated with Keras to visualize performance metrics."
   ]
  },
  {
   "cell_type": "markdown",
   "id": "dfa51f13-b0c1-4f97-bc2f-15aaab9cad9d",
   "metadata": {},
   "source": [
    "#### Imports"
   ]
  },
  {
   "cell_type": "code",
   "execution_count": 6,
   "id": "7907552d-187c-4381-a871-d20db0b6fe04",
   "metadata": {
    "tags": []
   },
   "outputs": [],
   "source": [
    "import tensorflow as tf\n",
    "from tensorflow.keras.datasets import imdb\n",
    "from tensorflow.keras.preprocessing.sequence import pad_sequences\n",
    "from tensorflow.keras.models import Model\n",
    "from tensorflow.keras.layers import Input, Embedding, Dense, Dropout\n",
    "from tensorflow.keras.layers import MultiHeadAttention, LayerNormalization, GlobalAveragePooling1D\n",
    "\n",
    "import numpy as np"
   ]
  },
  {
   "cell_type": "code",
   "execution_count": 7,
   "id": "e0d263d2-f2fb-4cad-8e48-7a76bbe049f1",
   "metadata": {
    "tags": []
   },
   "outputs": [
    {
     "data": {
      "text/plain": [
       "[PhysicalDevice(name='/physical_device:CPU:0', device_type='CPU'),\n",
       " PhysicalDevice(name='/physical_device:GPU:0', device_type='GPU')]"
      ]
     },
     "execution_count": 7,
     "metadata": {},
     "output_type": "execute_result"
    }
   ],
   "source": [
    "# Check if GPU enabled \n",
    "tf.config.list_physical_devices()"
   ]
  },
  {
   "cell_type": "markdown",
   "id": "a499a78c-003e-4e96-bc47-429365b5dffc",
   "metadata": {},
   "source": [
    "### Develop Custom Transformer Model with Keras"
   ]
  },
  {
   "cell_type": "markdown",
   "id": "82760da2-bd41-4446-827b-97f1a83ccbda",
   "metadata": {},
   "source": [
    "#### Get the data"
   ]
  },
  {
   "cell_type": "code",
   "execution_count": 8,
   "id": "603ac1c0-180e-4fd1-9771-c38e73c8604d",
   "metadata": {},
   "outputs": [],
   "source": [
    "#data = np.load('../data/cnn_dailymail.npz', allow_pickle=True)\n",
    "#data = np.load('../data/news_api_data.npz', allow_pickle=True)\n",
    "#data = np.load('../data/cnn_dailymail_small.npz', allow_pickle=True)\n",
    "data = np.load('../data/news_api_data_small.npz', allow_pickle=True)\n",
    "\n",
    "train = data['train']\n",
    "test = data['test']\n",
    "val = data['val']"
   ]
  },
  {
   "cell_type": "code",
   "execution_count": 22,
   "id": "ebc748b6-b8cb-4f5b-b4a7-b3c00dca47d0",
   "metadata": {},
   "outputs": [
    {
     "name": "stdout",
     "output_type": "stream",
     "text": [
      "4214\n"
     ]
    }
   ],
   "source": [
    "max_len = 0\n",
    "for item in np.concatenate((train, test, val), axis=0):\n",
    "    if len(item['article']) > max_len:\n",
    "        max_len = len(item['article'])\n",
    "        \n",
    "print(max_len)"
   ]
  },
  {
   "cell_type": "code",
   "execution_count": 27,
   "id": "5ab4fbad-3060-46a3-ac63-72b5e2b816ee",
   "metadata": {
    "tags": []
   },
   "outputs": [
    {
     "ename": "IndexError",
     "evalue": "only integers, slices (`:`), ellipsis (`...`), numpy.newaxis (`None`) and integer or boolean arrays are valid indices",
     "output_type": "error",
     "traceback": [
      "\u001b[0;31m---------------------------------------------------------------------------\u001b[0m",
      "\u001b[0;31mIndexError\u001b[0m                                Traceback (most recent call last)",
      "Cell \u001b[0;32mIn[27], line 1\u001b[0m\n\u001b[0;32m----> 1\u001b[0m X_train \u001b[38;5;241m=\u001b[39m \u001b[43mtrain\u001b[49m\u001b[43m[\u001b[49m\u001b[38;5;124;43m'\u001b[39;49m\u001b[38;5;124;43marticle\u001b[39;49m\u001b[38;5;124;43m'\u001b[39;49m\u001b[43m]\u001b[49m\n",
      "\u001b[0;31mIndexError\u001b[0m: only integers, slices (`:`), ellipsis (`...`), numpy.newaxis (`None`) and integer or boolean arrays are valid indices"
     ]
    }
   ],
   "source": [
    "X_train = train['article']"
   ]
  },
  {
   "cell_type": "code",
   "execution_count": null,
   "id": "23b946f9-6346-4993-a062-28a2433b4c27",
   "metadata": {},
   "outputs": [],
   "source": []
  },
  {
   "cell_type": "markdown",
   "id": "15a7c1dc-d31c-41c1-9893-cf96a41b3c8d",
   "metadata": {},
   "source": [
    "### Select and Retrain Pre-trained Model"
   ]
  },
  {
   "cell_type": "code",
   "execution_count": null,
   "id": "27988f93-08a8-42b5-8895-0f81da1adf63",
   "metadata": {},
   "outputs": [],
   "source": []
  },
  {
   "cell_type": "code",
   "execution_count": null,
   "id": "3bea3be6-e313-4380-8d15-9a154880119b",
   "metadata": {},
   "outputs": [],
   "source": []
  },
  {
   "cell_type": "code",
   "execution_count": null,
   "id": "00db2fc9-8529-4f0f-9227-282707031723",
   "metadata": {},
   "outputs": [],
   "source": []
  },
  {
   "cell_type": "markdown",
   "id": "b2877a7f-2f69-41e0-8107-df99e5d53cb1",
   "metadata": {},
   "source": [
    "### Setup MLflow for Experiment tracking"
   ]
  },
  {
   "cell_type": "code",
   "execution_count": null,
   "id": "07ed0005-06c0-418f-9e1c-c692d788cfd2",
   "metadata": {},
   "outputs": [],
   "source": []
  },
  {
   "cell_type": "code",
   "execution_count": null,
   "id": "f6feb170-5115-4665-beaf-a2fa82390fa6",
   "metadata": {},
   "outputs": [],
   "source": []
  },
  {
   "cell_type": "markdown",
   "id": "ebeecb3e-a059-4ee4-ab4b-b5c175694fda",
   "metadata": {
    "tags": []
   },
   "source": [
    "### Training and Evaluation Setup"
   ]
  },
  {
   "cell_type": "code",
   "execution_count": null,
   "id": "d14ede4d-9cde-4ee0-acac-775657d5919f",
   "metadata": {},
   "outputs": [],
   "source": []
  }
 ],
 "metadata": {
  "kernelspec": {
   "display_name": "capstone",
   "language": "python",
   "name": "capstone"
  },
  "language_info": {
   "codemirror_mode": {
    "name": "ipython",
    "version": 3
   },
   "file_extension": ".py",
   "mimetype": "text/x-python",
   "name": "python",
   "nbconvert_exporter": "python",
   "pygments_lexer": "ipython3",
   "version": "3.10.14"
  }
 },
 "nbformat": 4,
 "nbformat_minor": 5
}
