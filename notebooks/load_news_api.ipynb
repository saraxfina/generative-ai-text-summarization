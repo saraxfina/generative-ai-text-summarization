{
 "cells": [
  {
   "cell_type": "markdown",
   "id": "faa72e32-5182-42eb-9dda-a9748a929044",
   "metadata": {},
   "source": [
    "## Notebook for Loading data from NewsAPI "
   ]
  },
  {
   "cell_type": "code",
   "execution_count": null,
   "id": "e7186434-ef4f-4f76-bc87-39573d9b1e7f",
   "metadata": {},
   "outputs": [],
   "source": [
    "small_dataset = True\n",
    "verbose = True"
   ]
  },
  {
   "cell_type": "markdown",
   "id": "ee6290a5-38cc-4864-9836-d3fe1550ae1e",
   "metadata": {},
   "source": [
    "#### Imports"
   ]
  },
  {
   "cell_type": "code",
   "execution_count": 43,
   "id": "6d721a19-d671-4db9-ae6c-8743a5773e58",
   "metadata": {
    "tags": []
   },
   "outputs": [],
   "source": [
    "import os\n",
    "import requests\n",
    "from newspaper import Article\n",
    "import hashlib \n",
    "import sklearn\n",
    "from sklearn.model_selection import train_test_split"
   ]
  },
  {
   "cell_type": "markdown",
   "id": "b786f8bc-6009-467c-8bbc-b17b23663d97",
   "metadata": {},
   "source": [
    "#### Get NewsAPI key"
   ]
  },
  {
   "cell_type": "code",
   "execution_count": 70,
   "id": "fa1bcb6b-86f2-4512-9a4a-f9c7e1f70a0c",
   "metadata": {
    "tags": []
   },
   "outputs": [
    {
     "name": "stdout",
     "output_type": "stream",
     "text": [
      "5be0c655294c4f2091c64c2fcfa6abd3\n"
     ]
    }
   ],
   "source": [
    "api_key = os.environ['NEWS_API_KEY']\n",
    "print(api_key)"
   ]
  },
  {
   "cell_type": "markdown",
   "id": "86bffee8-b91c-42ec-9c2a-26dab1659acf",
   "metadata": {},
   "source": [
    "#### Set up NewsAPI request "
   ]
  },
  {
   "cell_type": "code",
   "execution_count": 161,
   "id": "11fdf7ad-0de4-4b9c-875e-e76070e312c8",
   "metadata": {},
   "outputs": [
    {
     "name": "stdout",
     "output_type": "stream",
     "text": [
      "https://newsapi.org/v2/everything?domains=cnn.com,bbc.co.uk,nbc.com,nprnews.com,foxnews.com,washingtonpost.com,reuters.com,nytimes.com&excludeDomains=cnnespanol.cnn.com,arabic.cnn.com&from=2024-04-20&to=2024-04-22&sortBy=popularity&pageSize=100&page=1&apiKey=5be0c655294c4f2091c64c2fcfa6abd3\n"
     ]
    }
   ],
   "source": [
    "url = 'https://newsapi.org/v2/everything'\n",
    "country = 'us'\n",
    "pageSize = '100'\n",
    "page = '1'\n",
    "from_date = '2024-04-20'\n",
    "to_date = '2024-04-22'\n",
    "domains = 'cnn.com,bbc.co.uk,nbc.com,nprnews.com,foxnews.com,washingtonpost.com,reuters.com,nytimes.com'\n",
    "excludeDomains = 'cnnespanol.cnn.com,arabic.cnn.com'\n",
    "sortBy = 'popularity'\n",
    "request = f'%s?domains=%s&excludeDomains=%s&from=%s&to=%s&sortBy=%s&pageSize=%s&page=%s&apiKey=%s' % (url, domains, excludeDomains, from_date, to_date, sortBy, pageSize, page, api_key)\n",
    "\n",
    "print(request)\n"
   ]
  },
  {
   "cell_type": "markdown",
   "id": "5a9f8b84-d166-4ac7-a84f-5269ac362568",
   "metadata": {},
   "source": [
    "#### Perform request"
   ]
  },
  {
   "cell_type": "code",
   "execution_count": 162,
   "id": "5ff69321-879b-45d8-8a16-bf24c64b4833",
   "metadata": {
    "tags": []
   },
   "outputs": [],
   "source": [
    "response = requests.get(request)"
   ]
  },
  {
   "cell_type": "markdown",
   "id": "fa9fa021-5030-47f8-a874-14a8df84dbb7",
   "metadata": {},
   "source": [
    "#### Get number of articles "
   ]
  },
  {
   "cell_type": "code",
   "execution_count": 163,
   "id": "bc5e32c3-b606-45b3-ae5a-9b92d906233a",
   "metadata": {
    "tags": []
   },
   "outputs": [
    {
     "name": "stdout",
     "output_type": "stream",
     "text": [
      "699\n"
     ]
    }
   ],
   "source": [
    "print(response.json()['totalResults'])"
   ]
  },
  {
   "cell_type": "markdown",
   "id": "c4fe11d9-8bdb-4485-817d-bdf8a574ec9f",
   "metadata": {},
   "source": [
    "#### Data processing "
   ]
  },
  {
   "cell_type": "code",
   "execution_count": 164,
   "id": "1bf7d16a-3cd5-480d-92a8-6fdc5144a7b2",
   "metadata": {
    "tags": []
   },
   "outputs": [],
   "source": [
    "data = response.json()['articles']"
   ]
  },
  {
   "cell_type": "code",
   "execution_count": 165,
   "id": "1115753f-3010-4fdd-ab43-6b758a178946",
   "metadata": {
    "tags": []
   },
   "outputs": [
    {
     "name": "stdout",
     "output_type": "stream",
     "text": [
      "0 https://www.bbc.co.uk/news/world-asia-68867725\n",
      "1 https://www.bbc.co.uk/news/uk-politics-68870117\n",
      "2 https://www.bbc.co.uk/sport/live/football/68650698\n",
      "3 https://www.bbc.co.uk/news/live/world-us-canada-68861011\n",
      "4 https://www.bbc.co.uk/news/blogs-the-papers-68867084\n",
      "5 https://www.bbc.co.uk/sport/athletics/68868160\n",
      "6 https://www.bbc.co.uk/sport/av/rugby-union/68870733\n",
      "7 https://www.bbc.co.uk/news/world-africa-68846770\n",
      "8 https://www.bbc.co.uk/news/uk-politics-68721389\n",
      "9 https://www.bbc.co.uk/news/uk-northern-ireland-68865821\n",
      "10 https://www.bbc.co.uk/news/uk-england-derbyshire-68868136\n",
      "11 https://www.bbc.co.uk/news/entertainment-arts-68869153\n",
      "12 https://www.bbc.co.uk/news/live/world-middle-east-68861338\n",
      "13 https://www.bbc.co.uk/sport/disability-sport/68868155\n",
      "14 https://www.bbc.co.uk/news/world-us-canada-68867732\n",
      "15 https://www.bbc.co.uk/sport/live/formula1/67917668\n",
      "16 https://www.bbc.co.uk/news/live/uk-politics-68861335\n",
      "17 https://www.bbc.co.uk/news/blogs-the-papers-68861416\n",
      "18 https://www.cnn.com/2024/04/21/opinions/trump-followers-asleep-at-switch-opinion-galant/index.html\n",
      "19 https://www.foxnews.com/tech/can-ai-help-someone-stage-fake-kidnapping-scam-against-you-or-your-family\n",
      "20 https://www.foxnews.com/tech/fox-news-ai-newsletter-star-singer-fights-ai\n",
      "21 https://www.foxnews.com/tech/how-new-crazy-invisibility-tech-can-literally-make-you-disappear\n",
      "22 https://www.foxnews.com/tech/5-great-tips-planning-your-next-travel-getaway\n",
      "23 https://www.bbc.co.uk/news/world-us-canada-68863345\n",
      "24 https://www.bbc.co.uk/news/av/world-us-canada-68866766\n",
      "25 https://www.bbc.co.uk/programmes/p0hs009d\n",
      "26 https://www.bbc.co.uk/news/in-pictures-68849684\n",
      "27 https://www.bbc.co.uk/news/entertainment-arts-68856232\n",
      "28 https://www.bbc.co.uk/news/world-middle-east-68861607\n",
      "29 https://www.bbc.co.uk/news/newsbeat-68855426\n",
      "30 https://www.bbc.co.uk/news/world-middle-east-68870273\n",
      "31 https://www.bbc.co.uk/news/world-africa-68860091\n",
      "32 https://www.bbc.co.uk/news/business-68861396\n",
      "33 https://www.bbc.co.uk/news/world-australia-68758681\n",
      "34 https://www.bbc.co.uk/news/world-europe-68848772\n",
      "35 https://www.bbc.co.uk/news/entertainment-arts-68863609\n",
      "36 https://www.bbc.co.uk/news/world-us-canada-68848665\n",
      "37 https://www.bbc.co.uk/news/world-us-canada-68866912\n",
      "38 https://www.bbc.co.uk/news/world-asia-68869318\n",
      "39 https://www.washingtonpost.com/books/2024/04/18/new-look-original-romanic-heartthrob-lord-byron/\n",
      "40 https://www.bbc.co.uk/sport/av/rugby-union/68864115\n",
      "41 https://www.bbc.co.uk/sport/rugby-union/68855338\n",
      "42 https://www.bbc.co.uk/sport/hockey/68861640\n",
      "43 https://www.bbc.co.uk/sport/football/68804428\n",
      "44 https://www.bbc.co.uk/sport/av/football/68867314\n",
      "45 https://www.bbc.co.uk/sport/northern-ireland/68865891\n",
      "46 https://www.bbc.co.uk/sport/modern-pentathlon/68865370\n",
      "47 https://www.bbc.co.uk/sport/football/68810599\n",
      "48 https://www.bbc.co.uk/sport/av/football/68869394\n",
      "49 https://www.bbc.co.uk/sport/basketball/68870605\n",
      "50 https://www.bbc.co.uk/sport/athletics/68864710\n",
      "51 https://www.bbc.co.uk/sport/av/rugby-union/68864620\n",
      "52 https://www.bbc.co.uk/sport/av/football/68869132\n",
      "53 https://www.bbc.co.uk/sport/live/northern-ireland/68821053\n",
      "54 https://www.bbc.co.uk/sport/rugby-union/68837253\n",
      "55 https://www.bbc.co.uk/sport/av/football/68869857\n",
      "56 https://www.bbc.co.uk/sport/snooker/68871034\n",
      "57 https://www.bbc.co.uk/sport/football/68869335\n",
      "58 https://www.bbc.co.uk/sport/snooker/68867211\n",
      "59 https://www.bbc.co.uk/sport/live/football/68820621\n",
      "60 https://www.bbc.co.uk/sport/football/68804742\n",
      "61 https://www.bbc.co.uk/sport/rugby-league/68846418\n",
      "62 https://www.bbc.co.uk/sport/mixed-martial-arts/68862967\n",
      "63 https://www.bbc.co.uk/sport/tennis/68865376\n",
      "64 https://www.bbc.co.uk/sport/football/68857839\n",
      "65 https://www.bbc.co.uk/sport/mixed-martial-arts/68862972\n",
      "66 https://www.bbc.co.uk/sport/darts/68866707\n",
      "67 https://www.bbc.co.uk/sport/av/athletics/68854768\n",
      "68 https://www.bbc.co.uk/sport/av/football/68867083\n",
      "69 https://www.bbc.co.uk/sport/av/rugby-union/68864112\n",
      "70 https://www.bbc.co.uk/sport/av/athletics/68864617\n",
      "71 https://www.bbc.co.uk/sport/rugby-union/68853433\n",
      "72 https://www.bbc.co.uk/sport/av/football/68864613\n",
      "73 https://www.bbc.co.uk/sport/av/football/68871329\n",
      "74 https://www.bbc.co.uk/sport/basketball/68863167\n",
      "75 https://www.bbc.co.uk/sport/football/68864449\n",
      "76 https://www.bbc.co.uk/sport/football/68866956\n",
      "77 https://www.bbc.co.uk/sport/av/football/68869110\n",
      "78 https://www.bbc.co.uk/sport/68868043\n",
      "79 https://www.bbc.co.uk/sport/av/football/68869131\n",
      "80 https://www.bbc.co.uk/sport/av/athletics/68868712\n",
      "81 https://www.bbc.co.uk/sport/av/rugby-union/68869130\n",
      "82 https://www.bbc.co.uk/sport/rugby-union/68870036\n",
      "83 https://www.bbc.co.uk/sport/av/baseball/68868921\n",
      "84 https://www.bbc.co.uk/sport/gaelic-games/68870165\n",
      "85 https://www.bbc.co.uk/sport/av/athletics/68864614\n",
      "86 https://www.bbc.co.uk/sport/football/68865292\n",
      "87 https://www.bbc.co.uk/sport/athletics/68826412\n",
      "88 https://www.bbc.co.uk/sport/gaelic-games/68856592\n",
      "89 https://www.bbc.co.uk/sport/golf/68867773\n",
      "90 https://www.bbc.co.uk/sport/av/football/68867328\n",
      "91 https://www.bbc.co.uk/sport/av/rugby-union/68865469\n",
      "92 https://www.bbc.co.uk/sport/rugby-union/68866152\n",
      "93 https://www.bbc.co.uk/sport/av/basketball/68868918\n",
      "94 https://www.bbc.co.uk/sport/tennis/68868855\n",
      "95 https://www.bbc.co.uk/sport/rugby-union/68868649\n",
      "96 https://www.bbc.co.uk/sport/football/68870230\n",
      "97 https://www.bbc.co.uk/sport/gaelic-games/68869870\n",
      "98 https://www.bbc.co.uk/sport/av/football/68869399\n",
      "99 https://www.bbc.co.uk/sport/disability-sport/68868858\n"
     ]
    }
   ],
   "source": [
    "dataset = []\n",
    "count = 0\n",
    "\n",
    "if small_dataset:\n",
    "    max_articles = 10\n",
    "else:\n",
    "    max_articles = 100\n",
    "    \n",
    "\n",
    "for article in data:\n",
    "    url = article['url']\n",
    "\n",
    "    # remove articles that NewsAPI did not return\n",
    "    if url == \"https://removed.com\":\n",
    "        continue \n",
    "        \n",
    "    # remove foreign articles \n",
    "    if \"espanol\" in url or \"arabic\" in url:\n",
    "        continue\n",
    "        \n",
    "    if verbose:\n",
    "        print(str(count) + \" \" + url)    \n",
    "    \n",
    "    # remove articles that can't be scraped\n",
    "    news_article = Article(url)\n",
    "    try: \n",
    "        news_article.download()\n",
    "        news_article.parse()\n",
    "    except:\n",
    "        print(\"failed to download\")\n",
    "        continue \n",
    "    \n",
    "    content = news_article.text\n",
    "    \n",
    "    # remove articles that have a length of 0 \n",
    "    if len(content) == 0 or len(article['description']) == 0:\n",
    "        continue\n",
    "    \n",
    "    # save all other articles \n",
    "    dataset.append({'id' : hashlib.md5(url.encode()).hexdigest(), 'highlights' : article['description'], 'article' : content} )\n",
    "    count += 1\n",
    "    \n",
    "    if count == max_articles: \n",
    "        break "
   ]
  },
  {
   "cell_type": "code",
   "execution_count": 166,
   "id": "30394d30-e319-45ca-a242-9fc35e8c4300",
   "metadata": {
    "tags": []
   },
   "outputs": [
    {
     "data": {
      "text/plain": [
       "100"
      ]
     },
     "execution_count": 166,
     "metadata": {},
     "output_type": "execute_result"
    }
   ],
   "source": [
    "# verify total number of articles is accurate\n",
    "len(dataset)"
   ]
  },
  {
   "cell_type": "markdown",
   "id": "1b1b8a6a-9739-40c7-8bdc-392b0bff8ede",
   "metadata": {},
   "source": [
    "#### Train Test Split"
   ]
  },
  {
   "cell_type": "code",
   "execution_count": 167,
   "id": "858d7d1a-f4f3-48a8-b610-d9820ba62e53",
   "metadata": {
    "tags": []
   },
   "outputs": [],
   "source": [
    "train, test = train_test_split(dataset, test_size=.2)\n",
    "train, val = train_test_split(train, test_size=.25)"
   ]
  },
  {
   "cell_type": "code",
   "execution_count": null,
   "id": "946469fb-6384-435f-bd9d-0d5711771ea6",
   "metadata": {},
   "outputs": [],
   "source": [
    "if small_dataset:\n",
    "    np.savez('../data/news_api_data_small.npz' , train=train, test=test, val=val)\n",
    "else:\n",
    "    np.savez('../data/news_api_data.npz' , train=train, test=test, val=val)"
   ]
  },
  {
   "cell_type": "markdown",
   "id": "3b7a4029-7bd3-46fe-b41f-0a769f6171e3",
   "metadata": {},
   "source": [
    "#### Example Code for Loading Data"
   ]
  },
  {
   "cell_type": "code",
   "execution_count": null,
   "id": "d23bd71f-6e36-4aea-98b8-008a5d574a5e",
   "metadata": {},
   "outputs": [],
   "source": [
    "# How to load the data\n",
    "data = np.load('../data/news_api_data_small.npz', allow_pickle=True)\n",
    "train = data['train']\n",
    "test = data['test']\n",
    "val = data['val']\n"
   ]
  }
 ],
 "metadata": {
  "kernelspec": {
   "display_name": "capstone",
   "language": "python",
   "name": "capstone"
  },
  "language_info": {
   "codemirror_mode": {
    "name": "ipython",
    "version": 3
   },
   "file_extension": ".py",
   "mimetype": "text/x-python",
   "name": "python",
   "nbconvert_exporter": "python",
   "pygments_lexer": "ipython3",
   "version": "3.10.14"
  }
 },
 "nbformat": 4,
 "nbformat_minor": 5
}
