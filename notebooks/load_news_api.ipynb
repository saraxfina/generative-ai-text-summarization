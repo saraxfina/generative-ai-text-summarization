{
 "cells": [
  {
   "cell_type": "markdown",
   "id": "faa72e32-5182-42eb-9dda-a9748a929044",
   "metadata": {},
   "source": [
    "## Notebook for Loading data from NewsAPI "
   ]
  },
  {
   "cell_type": "code",
   "execution_count": 18,
   "id": "e7186434-ef4f-4f76-bc87-39573d9b1e7f",
   "metadata": {},
   "outputs": [],
   "source": [
    "small_dataset = False\n",
    "verbose = False"
   ]
  },
  {
   "cell_type": "markdown",
   "id": "ee6290a5-38cc-4864-9836-d3fe1550ae1e",
   "metadata": {},
   "source": [
    "#### Imports"
   ]
  },
  {
   "cell_type": "code",
   "execution_count": 19,
   "id": "6d721a19-d671-4db9-ae6c-8743a5773e58",
   "metadata": {
    "tags": []
   },
   "outputs": [],
   "source": [
    "import os\n",
    "import requests\n",
    "from newspaper import Article\n",
    "import sklearn\n",
    "import pandas as pd\n",
    "import numpy as np\n",
    "from sklearn.model_selection import train_test_split"
   ]
  },
  {
   "cell_type": "markdown",
   "id": "b786f8bc-6009-467c-8bbc-b17b23663d97",
   "metadata": {},
   "source": [
    "#### Get NewsAPI key"
   ]
  },
  {
   "cell_type": "code",
   "execution_count": 20,
   "id": "fa1bcb6b-86f2-4512-9a4a-f9c7e1f70a0c",
   "metadata": {
    "tags": []
   },
   "outputs": [
    {
     "name": "stdout",
     "output_type": "stream",
     "text": [
      "5be0c655294c4f2091c64c2fcfa6abd3\n"
     ]
    }
   ],
   "source": [
    "api_key = os.environ['NEWS_API_KEY']\n",
    "print(api_key)"
   ]
  },
  {
   "cell_type": "markdown",
   "id": "86bffee8-b91c-42ec-9c2a-26dab1659acf",
   "metadata": {},
   "source": [
    "#### Set up NewsAPI request "
   ]
  },
  {
   "cell_type": "code",
   "execution_count": 21,
   "id": "11fdf7ad-0de4-4b9c-875e-e76070e312c8",
   "metadata": {},
   "outputs": [
    {
     "name": "stdout",
     "output_type": "stream",
     "text": [
      "https://newsapi.org/v2/everything?domains=cnn.com,bbc.co.uk,nbc.com,nprnews.com,foxnews.com,washingtonpost.com,reuters.com,nytimes.com&excludeDomains=cnnespanol.cnn.com,arabic.cnn.com&from=2024-04-20&to=2024-04-22&sortBy=popularity&pageSize=100&page=1&apiKey=5be0c655294c4f2091c64c2fcfa6abd3\n"
     ]
    }
   ],
   "source": [
    "url = 'https://newsapi.org/v2/everything'\n",
    "country = 'us'\n",
    "pageSize = '100'\n",
    "page = '1'\n",
    "from_date = '2024-04-20'\n",
    "to_date = '2024-04-22'\n",
    "domains = 'cnn.com,bbc.co.uk,nbc.com,nprnews.com,foxnews.com,washingtonpost.com,reuters.com,nytimes.com'\n",
    "excludeDomains = 'cnnespanol.cnn.com,arabic.cnn.com'\n",
    "sortBy = 'popularity'\n",
    "request = f'%s?domains=%s&excludeDomains=%s&from=%s&to=%s&sortBy=%s&pageSize=%s&page=%s&apiKey=%s' % (url, domains, excludeDomains, from_date, to_date, sortBy, pageSize, page, api_key)\n",
    "\n",
    "print(request)\n"
   ]
  },
  {
   "cell_type": "markdown",
   "id": "5a9f8b84-d166-4ac7-a84f-5269ac362568",
   "metadata": {},
   "source": [
    "#### Perform request"
   ]
  },
  {
   "cell_type": "code",
   "execution_count": 22,
   "id": "5ff69321-879b-45d8-8a16-bf24c64b4833",
   "metadata": {
    "tags": []
   },
   "outputs": [],
   "source": [
    "response = requests.get(request)"
   ]
  },
  {
   "cell_type": "markdown",
   "id": "fa9fa021-5030-47f8-a874-14a8df84dbb7",
   "metadata": {},
   "source": [
    "#### Get number of articles "
   ]
  },
  {
   "cell_type": "code",
   "execution_count": 23,
   "id": "bc5e32c3-b606-45b3-ae5a-9b92d906233a",
   "metadata": {
    "tags": []
   },
   "outputs": [
    {
     "name": "stdout",
     "output_type": "stream",
     "text": [
      "1174\n"
     ]
    }
   ],
   "source": [
    "print(response.json()['totalResults'])"
   ]
  },
  {
   "cell_type": "markdown",
   "id": "c4fe11d9-8bdb-4485-817d-bdf8a574ec9f",
   "metadata": {},
   "source": [
    "#### Data processing "
   ]
  },
  {
   "cell_type": "code",
   "execution_count": 24,
   "id": "1bf7d16a-3cd5-480d-92a8-6fdc5144a7b2",
   "metadata": {
    "tags": []
   },
   "outputs": [],
   "source": [
    "data = response.json()['articles']"
   ]
  },
  {
   "cell_type": "code",
   "execution_count": 25,
   "id": "1115753f-3010-4fdd-ab43-6b758a178946",
   "metadata": {
    "tags": []
   },
   "outputs": [],
   "source": [
    "dataset = []\n",
    "count = 0\n",
    "\n",
    "if small_dataset:\n",
    "    max_articles = 10\n",
    "else:\n",
    "    max_articles = 100\n",
    "    \n",
    "\n",
    "for article in data:\n",
    "    url = article['url']\n",
    "\n",
    "    # remove articles that NewsAPI did not return\n",
    "    if url == \"https://removed.com\":\n",
    "        continue \n",
    "        \n",
    "    # remove foreign articles \n",
    "    if \"espanol\" in url or \"arabic\" in url:\n",
    "        continue\n",
    "        \n",
    "    if verbose:\n",
    "        print(str(count) + \" \" + url)    \n",
    "    \n",
    "    # remove articles that can't be scraped\n",
    "    news_article = Article(url)\n",
    "    try: \n",
    "        news_article.download()\n",
    "        news_article.parse()\n",
    "    except:\n",
    "        print(\"failed to download\")\n",
    "        continue \n",
    "    \n",
    "    content = news_article.text\n",
    "    \n",
    "    # remove articles that have a length of 0 \n",
    "    if len(content) == 0 or len(article['description']) == 0:\n",
    "        continue\n",
    "    \n",
    "    # save all other articles \n",
    "    dataset.append({'article' : content, 'highlights' : article['description']} )\n",
    "    count += 1\n",
    "    \n",
    "    if count == max_articles: \n",
    "        break "
   ]
  },
  {
   "cell_type": "code",
   "execution_count": 26,
   "id": "30394d30-e319-45ca-a242-9fc35e8c4300",
   "metadata": {
    "tags": []
   },
   "outputs": [
    {
     "data": {
      "text/plain": [
       "100"
      ]
     },
     "execution_count": 26,
     "metadata": {},
     "output_type": "execute_result"
    }
   ],
   "source": [
    "data = pd.DataFrame.from_dict(dataset)\n",
    "\n",
    "len(data)"
   ]
  },
  {
   "cell_type": "markdown",
   "id": "1b1b8a6a-9739-40c7-8bdc-392b0bff8ede",
   "metadata": {},
   "source": [
    "#### Train Test Split"
   ]
  },
  {
   "cell_type": "code",
   "execution_count": 14,
   "id": "858d7d1a-f4f3-48a8-b610-d9820ba62e53",
   "metadata": {
    "tags": []
   },
   "outputs": [],
   "source": [
    "train, test = train_test_split(data, test_size=.2)\n",
    "train, val = train_test_split(train, test_size=.25)\n",
    "\n",
    "X_train = train.iloc[:,0]\n",
    "y_train = train.iloc[:,1]\n",
    "X_test = test.iloc[:,0]\n",
    "y_test = test.iloc[:,1]\n",
    "X_val = val.iloc[:,0]\n",
    "y_val = val.iloc[:,1]"
   ]
  },
  {
   "cell_type": "code",
   "execution_count": 17,
   "id": "946469fb-6384-435f-bd9d-0d5711771ea6",
   "metadata": {},
   "outputs": [],
   "source": [
    "if small_dataset:\n",
    "    np.savez('../data/news_api_data_small.npz' ,  X_train=X_train, y_train=y_train, X_test=X_test, y_test=y_test, X_val=X_val, y_val=y_val)\n",
    "else:\n",
    "    np.savez('../data/news_api_data.npz' ,  X_train=X_train, y_train=y_train, X_test=X_test, y_test=y_test, X_val=X_val, y_val=y_val)"
   ]
  },
  {
   "cell_type": "markdown",
   "id": "3b7a4029-7bd3-46fe-b41f-0a769f6171e3",
   "metadata": {},
   "source": [
    "#### Example Code for Loading Data"
   ]
  },
  {
   "cell_type": "code",
   "execution_count": 27,
   "id": "d23bd71f-6e36-4aea-98b8-008a5d574a5e",
   "metadata": {},
   "outputs": [],
   "source": [
    "# How to load the data\n",
    "data = np.load('../data/news_api_data_small.npz', allow_pickle=True)\n",
    "X_train = data['X_train']\n",
    "y_train = data['y_train']\n",
    "X_test = data['X_test']\n",
    "y_test = data['y_test']\n",
    "X_val = data['X_val']\n",
    "y_val = data['y_val']\n"
   ]
  },
  {
   "cell_type": "code",
   "execution_count": null,
   "id": "a54058aa-9104-469c-adb5-e1cf6338532d",
   "metadata": {},
   "outputs": [],
   "source": []
  }
 ],
 "metadata": {
  "kernelspec": {
   "display_name": "capstone",
   "language": "python",
   "name": "capstone"
  },
  "language_info": {
   "codemirror_mode": {
    "name": "ipython",
    "version": 3
   },
   "file_extension": ".py",
   "mimetype": "text/x-python",
   "name": "python",
   "nbconvert_exporter": "python",
   "pygments_lexer": "ipython3",
   "version": "3.10.14"
  }
 },
 "nbformat": 4,
 "nbformat_minor": 5
}
